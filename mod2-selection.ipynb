{
 "cells": [
  {
   "cell_type": "code",
   "execution_count": 1,
   "id": "c8633cf2",
   "metadata": {},
   "outputs": [],
   "source": [
    "import pandas as pd\n",
    "import numpy as np\n",
    "import seaborn as sns"
   ]
  },
  {
   "cell_type": "code",
   "execution_count": 2,
   "id": "f3713b95",
   "metadata": {},
   "outputs": [],
   "source": [
    "mod2 = pd.read_csv('mod2.csv')"
   ]
  },
  {
   "cell_type": "code",
   "execution_count": 3,
   "id": "8f22e1b9",
   "metadata": {},
   "outputs": [
    {
     "data": {
      "text/html": [
       "<div>\n",
       "<style scoped>\n",
       "    .dataframe tbody tr th:only-of-type {\n",
       "        vertical-align: middle;\n",
       "    }\n",
       "\n",
       "    .dataframe tbody tr th {\n",
       "        vertical-align: top;\n",
       "    }\n",
       "\n",
       "    .dataframe thead th {\n",
       "        text-align: right;\n",
       "    }\n",
       "</style>\n",
       "<table border=\"1\" class=\"dataframe\">\n",
       "  <thead>\n",
       "    <tr style=\"text-align: right;\">\n",
       "      <th></th>\n",
       "      <th>STUDENT ID</th>\n",
       "      <th>LEARNING STYLE</th>\n",
       "      <th>PROGRAM</th>\n",
       "      <th>YEAR</th>\n",
       "      <th>RACE</th>\n",
       "      <th>GENDER</th>\n",
       "      <th>RELIGION</th>\n",
       "      <th>STATE</th>\n",
       "      <th>REGION</th>\n",
       "      <th>INCOME</th>\n",
       "      <th>...</th>\n",
       "      <th>SCHOOL</th>\n",
       "      <th>SPM ADDMATH</th>\n",
       "      <th>SPM PHY</th>\n",
       "      <th>SPM CHEM</th>\n",
       "      <th>SEM1 CGPA</th>\n",
       "      <th>SEM1 MATH</th>\n",
       "      <th>SEM1 PHY</th>\n",
       "      <th>SEM1 CHEM</th>\n",
       "      <th>SEM1 COMP SC</th>\n",
       "      <th>SEM2 CGPA</th>\n",
       "    </tr>\n",
       "  </thead>\n",
       "  <tbody>\n",
       "    <tr>\n",
       "      <th>0</th>\n",
       "      <td>2019/2020|MS1918274624</td>\n",
       "      <td>0</td>\n",
       "      <td>1</td>\n",
       "      <td>1</td>\n",
       "      <td>3</td>\n",
       "      <td>0</td>\n",
       "      <td>2</td>\n",
       "      <td>1</td>\n",
       "      <td>0</td>\n",
       "      <td>0</td>\n",
       "      <td>...</td>\n",
       "      <td>0</td>\n",
       "      <td>7</td>\n",
       "      <td>4</td>\n",
       "      <td>6</td>\n",
       "      <td>0</td>\n",
       "      <td>2</td>\n",
       "      <td>0</td>\n",
       "      <td>1</td>\n",
       "      <td>0</td>\n",
       "      <td>0</td>\n",
       "    </tr>\n",
       "    <tr>\n",
       "      <th>1</th>\n",
       "      <td>2019/2020|MS1818177384</td>\n",
       "      <td>0</td>\n",
       "      <td>1</td>\n",
       "      <td>2</td>\n",
       "      <td>3</td>\n",
       "      <td>0</td>\n",
       "      <td>2</td>\n",
       "      <td>1</td>\n",
       "      <td>1</td>\n",
       "      <td>2</td>\n",
       "      <td>...</td>\n",
       "      <td>0</td>\n",
       "      <td>4</td>\n",
       "      <td>6</td>\n",
       "      <td>6</td>\n",
       "      <td>1</td>\n",
       "      <td>0</td>\n",
       "      <td>5</td>\n",
       "      <td>3</td>\n",
       "      <td>0</td>\n",
       "      <td>0</td>\n",
       "    </tr>\n",
       "    <tr>\n",
       "      <th>2</th>\n",
       "      <td>2019/2020|MS1818177415</td>\n",
       "      <td>0</td>\n",
       "      <td>1</td>\n",
       "      <td>2</td>\n",
       "      <td>3</td>\n",
       "      <td>0</td>\n",
       "      <td>2</td>\n",
       "      <td>7</td>\n",
       "      <td>1</td>\n",
       "      <td>0</td>\n",
       "      <td>...</td>\n",
       "      <td>1</td>\n",
       "      <td>6</td>\n",
       "      <td>3</td>\n",
       "      <td>4</td>\n",
       "      <td>2</td>\n",
       "      <td>4</td>\n",
       "      <td>4</td>\n",
       "      <td>5</td>\n",
       "      <td>2</td>\n",
       "      <td>1</td>\n",
       "    </tr>\n",
       "    <tr>\n",
       "      <th>3</th>\n",
       "      <td>2019/2020|MS1818177543</td>\n",
       "      <td>0</td>\n",
       "      <td>1</td>\n",
       "      <td>2</td>\n",
       "      <td>3</td>\n",
       "      <td>0</td>\n",
       "      <td>2</td>\n",
       "      <td>1</td>\n",
       "      <td>0</td>\n",
       "      <td>0</td>\n",
       "      <td>...</td>\n",
       "      <td>1</td>\n",
       "      <td>6</td>\n",
       "      <td>4</td>\n",
       "      <td>5</td>\n",
       "      <td>2</td>\n",
       "      <td>4</td>\n",
       "      <td>4</td>\n",
       "      <td>5</td>\n",
       "      <td>2</td>\n",
       "      <td>1</td>\n",
       "    </tr>\n",
       "    <tr>\n",
       "      <th>4</th>\n",
       "      <td>2019/2020|MS1918172827</td>\n",
       "      <td>0</td>\n",
       "      <td>1</td>\n",
       "      <td>1</td>\n",
       "      <td>3</td>\n",
       "      <td>0</td>\n",
       "      <td>2</td>\n",
       "      <td>7</td>\n",
       "      <td>1</td>\n",
       "      <td>0</td>\n",
       "      <td>...</td>\n",
       "      <td>1</td>\n",
       "      <td>6</td>\n",
       "      <td>2</td>\n",
       "      <td>4</td>\n",
       "      <td>0</td>\n",
       "      <td>1</td>\n",
       "      <td>0</td>\n",
       "      <td>2</td>\n",
       "      <td>1</td>\n",
       "      <td>0</td>\n",
       "    </tr>\n",
       "  </tbody>\n",
       "</table>\n",
       "<p>5 rows × 21 columns</p>\n",
       "</div>"
      ],
      "text/plain": [
       "               STUDENT ID  LEARNING STYLE  PROGRAM  YEAR  RACE  GENDER  \\\n",
       "0  2019/2020|MS1918274624               0        1     1     3       0   \n",
       "1  2019/2020|MS1818177384               0        1     2     3       0   \n",
       "2  2019/2020|MS1818177415               0        1     2     3       0   \n",
       "3  2019/2020|MS1818177543               0        1     2     3       0   \n",
       "4  2019/2020|MS1918172827               0        1     1     3       0   \n",
       "\n",
       "   RELIGION  STATE  REGION  INCOME  ...  SCHOOL  SPM ADDMATH  SPM PHY  \\\n",
       "0         2      1       0       0  ...       0            7        4   \n",
       "1         2      1       1       2  ...       0            4        6   \n",
       "2         2      7       1       0  ...       1            6        3   \n",
       "3         2      1       0       0  ...       1            6        4   \n",
       "4         2      7       1       0  ...       1            6        2   \n",
       "\n",
       "   SPM CHEM  SEM1 CGPA  SEM1 MATH  SEM1 PHY  SEM1 CHEM  SEM1 COMP SC  \\\n",
       "0         6          0          2         0          1             0   \n",
       "1         6          1          0         5          3             0   \n",
       "2         4          2          4         4          5             2   \n",
       "3         5          2          4         4          5             2   \n",
       "4         4          0          1         0          2             1   \n",
       "\n",
       "   SEM2 CGPA  \n",
       "0          0  \n",
       "1          0  \n",
       "2          1  \n",
       "3          1  \n",
       "4          0  \n",
       "\n",
       "[5 rows x 21 columns]"
      ]
     },
     "execution_count": 3,
     "metadata": {},
     "output_type": "execute_result"
    }
   ],
   "source": [
    "mod2.head()"
   ]
  },
  {
   "cell_type": "markdown",
   "id": "4364828a",
   "metadata": {},
   "source": []
  },
  {
   "cell_type": "code",
   "execution_count": 5,
   "id": "d2f149da",
   "metadata": {},
   "outputs": [
    {
     "data": {
      "text/plain": [
       "Index(['STUDENT ID', 'LEARNING STYLE', 'PROGRAM', 'YEAR', 'RACE', 'GENDER',\n",
       "       'RELIGION', 'STATE', 'REGION', 'INCOME', 'DEPENDENTS', 'SCHOOL',\n",
       "       'SPM ADDMATH', 'SPM PHY', 'SPM CHEM', 'SEM1 CGPA', 'SEM1 MATH',\n",
       "       'SEM1 PHY', 'SEM1 CHEM', 'SEM1 COMP SC', 'SEM2 CGPA'],\n",
       "      dtype='object')"
      ]
     },
     "execution_count": 5,
     "metadata": {},
     "output_type": "execute_result"
    }
   ],
   "source": [
    "mod2.columns\n"
   ]
  },
  {
   "cell_type": "code",
   "execution_count": 6,
   "id": "d2feed3d",
   "metadata": {},
   "outputs": [
    {
     "name": "stdout",
     "output_type": "stream",
     "text": [
      "<class 'pandas.core.frame.DataFrame'>\n",
      "RangeIndex: 1018 entries, 0 to 1017\n",
      "Data columns (total 21 columns):\n",
      " #   Column          Non-Null Count  Dtype \n",
      "---  ------          --------------  ----- \n",
      " 0   STUDENT ID      1018 non-null   object\n",
      " 1   LEARNING STYLE  1018 non-null   int64 \n",
      " 2   PROGRAM         1018 non-null   int64 \n",
      " 3   YEAR            1018 non-null   int64 \n",
      " 4   RACE            1018 non-null   int64 \n",
      " 5   GENDER          1018 non-null   int64 \n",
      " 6   RELIGION        1018 non-null   int64 \n",
      " 7   STATE           1018 non-null   int64 \n",
      " 8   REGION          1018 non-null   int64 \n",
      " 9   INCOME          1018 non-null   int64 \n",
      " 10  DEPENDENTS      1018 non-null   int64 \n",
      " 11  SCHOOL          1018 non-null   int64 \n",
      " 12  SPM ADDMATH     1018 non-null   int64 \n",
      " 13  SPM PHY         1018 non-null   int64 \n",
      " 14  SPM CHEM        1018 non-null   int64 \n",
      " 15  SEM1 CGPA       1018 non-null   int64 \n",
      " 16  SEM1 MATH       1018 non-null   int64 \n",
      " 17  SEM1 PHY        1018 non-null   int64 \n",
      " 18  SEM1 CHEM       1018 non-null   int64 \n",
      " 19  SEM1 COMP SC    1018 non-null   int64 \n",
      " 20  SEM2 CGPA       1018 non-null   int64 \n",
      "dtypes: int64(20), object(1)\n",
      "memory usage: 167.1+ KB\n"
     ]
    }
   ],
   "source": [
    "mod2.info()"
   ]
  },
  {
   "cell_type": "code",
   "execution_count": 11,
   "id": "14316e8b",
   "metadata": {},
   "outputs": [
    {
     "data": {
      "text/html": [
       "<div>\n",
       "<style scoped>\n",
       "    .dataframe tbody tr th:only-of-type {\n",
       "        vertical-align: middle;\n",
       "    }\n",
       "\n",
       "    .dataframe tbody tr th {\n",
       "        vertical-align: top;\n",
       "    }\n",
       "\n",
       "    .dataframe thead th {\n",
       "        text-align: right;\n",
       "    }\n",
       "</style>\n",
       "<table border=\"1\" class=\"dataframe\">\n",
       "  <thead>\n",
       "    <tr style=\"text-align: right;\">\n",
       "      <th></th>\n",
       "      <th>STUDENT ID</th>\n",
       "      <th>LEARNING STYLE</th>\n",
       "      <th>PROGRAM</th>\n",
       "      <th>YEAR</th>\n",
       "      <th>RACE</th>\n",
       "      <th>GENDER</th>\n",
       "      <th>RELIGION</th>\n",
       "      <th>STATE</th>\n",
       "      <th>REGION</th>\n",
       "      <th>INCOME</th>\n",
       "      <th>...</th>\n",
       "      <th>SCHOOL</th>\n",
       "      <th>SPM ADDMATH</th>\n",
       "      <th>SPM PHY</th>\n",
       "      <th>SPM CHEM</th>\n",
       "      <th>SEM1 CGPA</th>\n",
       "      <th>SEM1 MATH</th>\n",
       "      <th>SEM1 PHY</th>\n",
       "      <th>SEM1 CHEM</th>\n",
       "      <th>SEM1 COMP SC</th>\n",
       "      <th>SEM2 CGPA</th>\n",
       "    </tr>\n",
       "  </thead>\n",
       "  <tbody>\n",
       "    <tr>\n",
       "      <th>0</th>\n",
       "      <td>2019/2020|MS1918274624</td>\n",
       "      <td>0</td>\n",
       "      <td>1</td>\n",
       "      <td>1</td>\n",
       "      <td>3</td>\n",
       "      <td>0</td>\n",
       "      <td>2</td>\n",
       "      <td>1</td>\n",
       "      <td>0</td>\n",
       "      <td>0</td>\n",
       "      <td>...</td>\n",
       "      <td>0</td>\n",
       "      <td>7</td>\n",
       "      <td>4</td>\n",
       "      <td>6</td>\n",
       "      <td>0</td>\n",
       "      <td>2</td>\n",
       "      <td>0</td>\n",
       "      <td>1</td>\n",
       "      <td>0</td>\n",
       "      <td>0</td>\n",
       "    </tr>\n",
       "    <tr>\n",
       "      <th>1</th>\n",
       "      <td>2019/2020|MS1818177384</td>\n",
       "      <td>0</td>\n",
       "      <td>1</td>\n",
       "      <td>2</td>\n",
       "      <td>3</td>\n",
       "      <td>0</td>\n",
       "      <td>2</td>\n",
       "      <td>1</td>\n",
       "      <td>1</td>\n",
       "      <td>2</td>\n",
       "      <td>...</td>\n",
       "      <td>0</td>\n",
       "      <td>4</td>\n",
       "      <td>6</td>\n",
       "      <td>6</td>\n",
       "      <td>1</td>\n",
       "      <td>0</td>\n",
       "      <td>5</td>\n",
       "      <td>3</td>\n",
       "      <td>0</td>\n",
       "      <td>0</td>\n",
       "    </tr>\n",
       "    <tr>\n",
       "      <th>2</th>\n",
       "      <td>2019/2020|MS1818177415</td>\n",
       "      <td>0</td>\n",
       "      <td>1</td>\n",
       "      <td>2</td>\n",
       "      <td>3</td>\n",
       "      <td>0</td>\n",
       "      <td>2</td>\n",
       "      <td>7</td>\n",
       "      <td>1</td>\n",
       "      <td>0</td>\n",
       "      <td>...</td>\n",
       "      <td>1</td>\n",
       "      <td>6</td>\n",
       "      <td>3</td>\n",
       "      <td>4</td>\n",
       "      <td>2</td>\n",
       "      <td>4</td>\n",
       "      <td>4</td>\n",
       "      <td>5</td>\n",
       "      <td>2</td>\n",
       "      <td>1</td>\n",
       "    </tr>\n",
       "    <tr>\n",
       "      <th>3</th>\n",
       "      <td>2019/2020|MS1818177543</td>\n",
       "      <td>0</td>\n",
       "      <td>1</td>\n",
       "      <td>2</td>\n",
       "      <td>3</td>\n",
       "      <td>0</td>\n",
       "      <td>2</td>\n",
       "      <td>1</td>\n",
       "      <td>0</td>\n",
       "      <td>0</td>\n",
       "      <td>...</td>\n",
       "      <td>1</td>\n",
       "      <td>6</td>\n",
       "      <td>4</td>\n",
       "      <td>5</td>\n",
       "      <td>2</td>\n",
       "      <td>4</td>\n",
       "      <td>4</td>\n",
       "      <td>5</td>\n",
       "      <td>2</td>\n",
       "      <td>1</td>\n",
       "    </tr>\n",
       "    <tr>\n",
       "      <th>4</th>\n",
       "      <td>2019/2020|MS1918172827</td>\n",
       "      <td>0</td>\n",
       "      <td>1</td>\n",
       "      <td>1</td>\n",
       "      <td>3</td>\n",
       "      <td>0</td>\n",
       "      <td>2</td>\n",
       "      <td>7</td>\n",
       "      <td>1</td>\n",
       "      <td>0</td>\n",
       "      <td>...</td>\n",
       "      <td>1</td>\n",
       "      <td>6</td>\n",
       "      <td>2</td>\n",
       "      <td>4</td>\n",
       "      <td>0</td>\n",
       "      <td>1</td>\n",
       "      <td>0</td>\n",
       "      <td>2</td>\n",
       "      <td>1</td>\n",
       "      <td>0</td>\n",
       "    </tr>\n",
       "    <tr>\n",
       "      <th>...</th>\n",
       "      <td>...</td>\n",
       "      <td>...</td>\n",
       "      <td>...</td>\n",
       "      <td>...</td>\n",
       "      <td>...</td>\n",
       "      <td>...</td>\n",
       "      <td>...</td>\n",
       "      <td>...</td>\n",
       "      <td>...</td>\n",
       "      <td>...</td>\n",
       "      <td>...</td>\n",
       "      <td>...</td>\n",
       "      <td>...</td>\n",
       "      <td>...</td>\n",
       "      <td>...</td>\n",
       "      <td>...</td>\n",
       "      <td>...</td>\n",
       "      <td>...</td>\n",
       "      <td>...</td>\n",
       "      <td>...</td>\n",
       "      <td>...</td>\n",
       "    </tr>\n",
       "    <tr>\n",
       "      <th>1013</th>\n",
       "      <td>2020/2021|MS2018107338</td>\n",
       "      <td>1</td>\n",
       "      <td>0</td>\n",
       "      <td>1</td>\n",
       "      <td>3</td>\n",
       "      <td>1</td>\n",
       "      <td>2</td>\n",
       "      <td>12</td>\n",
       "      <td>1</td>\n",
       "      <td>5</td>\n",
       "      <td>...</td>\n",
       "      <td>7</td>\n",
       "      <td>3</td>\n",
       "      <td>2</td>\n",
       "      <td>1</td>\n",
       "      <td>0</td>\n",
       "      <td>1</td>\n",
       "      <td>0</td>\n",
       "      <td>1</td>\n",
       "      <td>0</td>\n",
       "      <td>0</td>\n",
       "    </tr>\n",
       "    <tr>\n",
       "      <th>1014</th>\n",
       "      <td>2020/2021|MS2018107463</td>\n",
       "      <td>1</td>\n",
       "      <td>0</td>\n",
       "      <td>1</td>\n",
       "      <td>3</td>\n",
       "      <td>1</td>\n",
       "      <td>2</td>\n",
       "      <td>1</td>\n",
       "      <td>1</td>\n",
       "      <td>5</td>\n",
       "      <td>...</td>\n",
       "      <td>7</td>\n",
       "      <td>5</td>\n",
       "      <td>3</td>\n",
       "      <td>4</td>\n",
       "      <td>0</td>\n",
       "      <td>0</td>\n",
       "      <td>0</td>\n",
       "      <td>0</td>\n",
       "      <td>0</td>\n",
       "      <td>0</td>\n",
       "    </tr>\n",
       "    <tr>\n",
       "      <th>1015</th>\n",
       "      <td>2020/2021|MS2018107701</td>\n",
       "      <td>1</td>\n",
       "      <td>0</td>\n",
       "      <td>1</td>\n",
       "      <td>3</td>\n",
       "      <td>1</td>\n",
       "      <td>2</td>\n",
       "      <td>1</td>\n",
       "      <td>0</td>\n",
       "      <td>0</td>\n",
       "      <td>...</td>\n",
       "      <td>8</td>\n",
       "      <td>4</td>\n",
       "      <td>4</td>\n",
       "      <td>3</td>\n",
       "      <td>1</td>\n",
       "      <td>2</td>\n",
       "      <td>1</td>\n",
       "      <td>4</td>\n",
       "      <td>0</td>\n",
       "      <td>0</td>\n",
       "    </tr>\n",
       "    <tr>\n",
       "      <th>1016</th>\n",
       "      <td>2020/2021|MS2018107426</td>\n",
       "      <td>1</td>\n",
       "      <td>0</td>\n",
       "      <td>1</td>\n",
       "      <td>3</td>\n",
       "      <td>1</td>\n",
       "      <td>2</td>\n",
       "      <td>10</td>\n",
       "      <td>1</td>\n",
       "      <td>7</td>\n",
       "      <td>...</td>\n",
       "      <td>8</td>\n",
       "      <td>4</td>\n",
       "      <td>3</td>\n",
       "      <td>2</td>\n",
       "      <td>0</td>\n",
       "      <td>1</td>\n",
       "      <td>2</td>\n",
       "      <td>2</td>\n",
       "      <td>0</td>\n",
       "      <td>0</td>\n",
       "    </tr>\n",
       "    <tr>\n",
       "      <th>1017</th>\n",
       "      <td>2020/2021|MS2018107318</td>\n",
       "      <td>1</td>\n",
       "      <td>0</td>\n",
       "      <td>1</td>\n",
       "      <td>3</td>\n",
       "      <td>1</td>\n",
       "      <td>2</td>\n",
       "      <td>10</td>\n",
       "      <td>2</td>\n",
       "      <td>5</td>\n",
       "      <td>...</td>\n",
       "      <td>8</td>\n",
       "      <td>3</td>\n",
       "      <td>2</td>\n",
       "      <td>2</td>\n",
       "      <td>0</td>\n",
       "      <td>0</td>\n",
       "      <td>0</td>\n",
       "      <td>0</td>\n",
       "      <td>0</td>\n",
       "      <td>0</td>\n",
       "    </tr>\n",
       "  </tbody>\n",
       "</table>\n",
       "<p>1018 rows × 21 columns</p>\n",
       "</div>"
      ],
      "text/plain": [
       "                  STUDENT ID  LEARNING STYLE  PROGRAM  YEAR  RACE  GENDER  \\\n",
       "0     2019/2020|MS1918274624               0        1     1     3       0   \n",
       "1     2019/2020|MS1818177384               0        1     2     3       0   \n",
       "2     2019/2020|MS1818177415               0        1     2     3       0   \n",
       "3     2019/2020|MS1818177543               0        1     2     3       0   \n",
       "4     2019/2020|MS1918172827               0        1     1     3       0   \n",
       "...                      ...             ...      ...   ...   ...     ...   \n",
       "1013  2020/2021|MS2018107338               1        0     1     3       1   \n",
       "1014  2020/2021|MS2018107463               1        0     1     3       1   \n",
       "1015  2020/2021|MS2018107701               1        0     1     3       1   \n",
       "1016  2020/2021|MS2018107426               1        0     1     3       1   \n",
       "1017  2020/2021|MS2018107318               1        0     1     3       1   \n",
       "\n",
       "      RELIGION  STATE  REGION  INCOME  ...  SCHOOL  SPM ADDMATH  SPM PHY  \\\n",
       "0            2      1       0       0  ...       0            7        4   \n",
       "1            2      1       1       2  ...       0            4        6   \n",
       "2            2      7       1       0  ...       1            6        3   \n",
       "3            2      1       0       0  ...       1            6        4   \n",
       "4            2      7       1       0  ...       1            6        2   \n",
       "...        ...    ...     ...     ...  ...     ...          ...      ...   \n",
       "1013         2     12       1       5  ...       7            3        2   \n",
       "1014         2      1       1       5  ...       7            5        3   \n",
       "1015         2      1       0       0  ...       8            4        4   \n",
       "1016         2     10       1       7  ...       8            4        3   \n",
       "1017         2     10       2       5  ...       8            3        2   \n",
       "\n",
       "      SPM CHEM  SEM1 CGPA  SEM1 MATH  SEM1 PHY  SEM1 CHEM  SEM1 COMP SC  \\\n",
       "0            6          0          2         0          1             0   \n",
       "1            6          1          0         5          3             0   \n",
       "2            4          2          4         4          5             2   \n",
       "3            5          2          4         4          5             2   \n",
       "4            4          0          1         0          2             1   \n",
       "...        ...        ...        ...       ...        ...           ...   \n",
       "1013         1          0          1         0          1             0   \n",
       "1014         4          0          0         0          0             0   \n",
       "1015         3          1          2         1          4             0   \n",
       "1016         2          0          1         2          2             0   \n",
       "1017         2          0          0         0          0             0   \n",
       "\n",
       "      SEM2 CGPA  \n",
       "0             0  \n",
       "1             0  \n",
       "2             1  \n",
       "3             1  \n",
       "4             0  \n",
       "...         ...  \n",
       "1013          0  \n",
       "1014          0  \n",
       "1015          0  \n",
       "1016          0  \n",
       "1017          0  \n",
       "\n",
       "[1018 rows x 21 columns]"
      ]
     },
     "execution_count": 11,
     "metadata": {},
     "output_type": "execute_result"
    }
   ],
   "source": [
    "mod2"
   ]
  },
  {
   "cell_type": "code",
   "execution_count": 12,
   "id": "1b4e6de1",
   "metadata": {},
   "outputs": [
    {
     "data": {
      "text/html": [
       "<div>\n",
       "<style scoped>\n",
       "    .dataframe tbody tr th:only-of-type {\n",
       "        vertical-align: middle;\n",
       "    }\n",
       "\n",
       "    .dataframe tbody tr th {\n",
       "        vertical-align: top;\n",
       "    }\n",
       "\n",
       "    .dataframe thead th {\n",
       "        text-align: right;\n",
       "    }\n",
       "</style>\n",
       "<table border=\"1\" class=\"dataframe\">\n",
       "  <thead>\n",
       "    <tr style=\"text-align: right;\">\n",
       "      <th></th>\n",
       "      <th>LEARNING STYLE</th>\n",
       "      <th>PROGRAM</th>\n",
       "      <th>YEAR</th>\n",
       "      <th>RACE</th>\n",
       "      <th>GENDER</th>\n",
       "      <th>RELIGION</th>\n",
       "      <th>STATE</th>\n",
       "      <th>REGION</th>\n",
       "      <th>INCOME</th>\n",
       "      <th>DEPENDENTS</th>\n",
       "      <th>SCHOOL</th>\n",
       "      <th>SPM ADDMATH</th>\n",
       "      <th>SPM PHY</th>\n",
       "      <th>SPM CHEM</th>\n",
       "      <th>SEM1 CGPA</th>\n",
       "      <th>SEM1 MATH</th>\n",
       "      <th>SEM1 PHY</th>\n",
       "      <th>SEM1 CHEM</th>\n",
       "      <th>SEM1 COMP SC</th>\n",
       "      <th>SEM2 CGPA</th>\n",
       "    </tr>\n",
       "  </thead>\n",
       "  <tbody>\n",
       "    <tr>\n",
       "      <th>0</th>\n",
       "      <td>0</td>\n",
       "      <td>1</td>\n",
       "      <td>1</td>\n",
       "      <td>3</td>\n",
       "      <td>0</td>\n",
       "      <td>2</td>\n",
       "      <td>1</td>\n",
       "      <td>0</td>\n",
       "      <td>0</td>\n",
       "      <td>6</td>\n",
       "      <td>0</td>\n",
       "      <td>7</td>\n",
       "      <td>4</td>\n",
       "      <td>6</td>\n",
       "      <td>0</td>\n",
       "      <td>2</td>\n",
       "      <td>0</td>\n",
       "      <td>1</td>\n",
       "      <td>0</td>\n",
       "      <td>0</td>\n",
       "    </tr>\n",
       "    <tr>\n",
       "      <th>1</th>\n",
       "      <td>0</td>\n",
       "      <td>1</td>\n",
       "      <td>2</td>\n",
       "      <td>3</td>\n",
       "      <td>0</td>\n",
       "      <td>2</td>\n",
       "      <td>1</td>\n",
       "      <td>1</td>\n",
       "      <td>2</td>\n",
       "      <td>6</td>\n",
       "      <td>0</td>\n",
       "      <td>4</td>\n",
       "      <td>6</td>\n",
       "      <td>6</td>\n",
       "      <td>1</td>\n",
       "      <td>0</td>\n",
       "      <td>5</td>\n",
       "      <td>3</td>\n",
       "      <td>0</td>\n",
       "      <td>0</td>\n",
       "    </tr>\n",
       "    <tr>\n",
       "      <th>2</th>\n",
       "      <td>0</td>\n",
       "      <td>1</td>\n",
       "      <td>2</td>\n",
       "      <td>3</td>\n",
       "      <td>0</td>\n",
       "      <td>2</td>\n",
       "      <td>7</td>\n",
       "      <td>1</td>\n",
       "      <td>0</td>\n",
       "      <td>7</td>\n",
       "      <td>1</td>\n",
       "      <td>6</td>\n",
       "      <td>3</td>\n",
       "      <td>4</td>\n",
       "      <td>2</td>\n",
       "      <td>4</td>\n",
       "      <td>4</td>\n",
       "      <td>5</td>\n",
       "      <td>2</td>\n",
       "      <td>1</td>\n",
       "    </tr>\n",
       "    <tr>\n",
       "      <th>3</th>\n",
       "      <td>0</td>\n",
       "      <td>1</td>\n",
       "      <td>2</td>\n",
       "      <td>3</td>\n",
       "      <td>0</td>\n",
       "      <td>2</td>\n",
       "      <td>1</td>\n",
       "      <td>0</td>\n",
       "      <td>0</td>\n",
       "      <td>3</td>\n",
       "      <td>1</td>\n",
       "      <td>6</td>\n",
       "      <td>4</td>\n",
       "      <td>5</td>\n",
       "      <td>2</td>\n",
       "      <td>4</td>\n",
       "      <td>4</td>\n",
       "      <td>5</td>\n",
       "      <td>2</td>\n",
       "      <td>1</td>\n",
       "    </tr>\n",
       "    <tr>\n",
       "      <th>4</th>\n",
       "      <td>0</td>\n",
       "      <td>1</td>\n",
       "      <td>1</td>\n",
       "      <td>3</td>\n",
       "      <td>0</td>\n",
       "      <td>2</td>\n",
       "      <td>7</td>\n",
       "      <td>1</td>\n",
       "      <td>0</td>\n",
       "      <td>4</td>\n",
       "      <td>1</td>\n",
       "      <td>6</td>\n",
       "      <td>2</td>\n",
       "      <td>4</td>\n",
       "      <td>0</td>\n",
       "      <td>1</td>\n",
       "      <td>0</td>\n",
       "      <td>2</td>\n",
       "      <td>1</td>\n",
       "      <td>0</td>\n",
       "    </tr>\n",
       "  </tbody>\n",
       "</table>\n",
       "</div>"
      ],
      "text/plain": [
       "   LEARNING STYLE  PROGRAM  YEAR  RACE  GENDER  RELIGION  STATE  REGION  \\\n",
       "0               0        1     1     3       0         2      1       0   \n",
       "1               0        1     2     3       0         2      1       1   \n",
       "2               0        1     2     3       0         2      7       1   \n",
       "3               0        1     2     3       0         2      1       0   \n",
       "4               0        1     1     3       0         2      7       1   \n",
       "\n",
       "   INCOME  DEPENDENTS  SCHOOL  SPM ADDMATH  SPM PHY  SPM CHEM  SEM1 CGPA  \\\n",
       "0       0           6       0            7        4         6          0   \n",
       "1       2           6       0            4        6         6          1   \n",
       "2       0           7       1            6        3         4          2   \n",
       "3       0           3       1            6        4         5          2   \n",
       "4       0           4       1            6        2         4          0   \n",
       "\n",
       "   SEM1 MATH  SEM1 PHY  SEM1 CHEM  SEM1 COMP SC  SEM2 CGPA  \n",
       "0          2         0          1             0          0  \n",
       "1          0         5          3             0          0  \n",
       "2          4         4          5             2          1  \n",
       "3          4         4          5             2          1  \n",
       "4          1         0          2             1          0  "
      ]
     },
     "execution_count": 12,
     "metadata": {},
     "output_type": "execute_result"
    }
   ],
   "source": [
    "mod2 = mod2.drop('STUDENT ID', axis=1)\n",
    "mod2.head()"
   ]
  },
  {
   "cell_type": "code",
   "execution_count": 13,
   "id": "c19fbb5b",
   "metadata": {},
   "outputs": [
    {
     "name": "stdout",
     "output_type": "stream",
     "text": [
      "<class 'pandas.core.frame.DataFrame'>\n",
      "RangeIndex: 1018 entries, 0 to 1017\n",
      "Data columns (total 20 columns):\n",
      " #   Column          Non-Null Count  Dtype\n",
      "---  ------          --------------  -----\n",
      " 0   LEARNING STYLE  1018 non-null   int64\n",
      " 1   PROGRAM         1018 non-null   int64\n",
      " 2   YEAR            1018 non-null   int64\n",
      " 3   RACE            1018 non-null   int64\n",
      " 4   GENDER          1018 non-null   int64\n",
      " 5   RELIGION        1018 non-null   int64\n",
      " 6   STATE           1018 non-null   int64\n",
      " 7   REGION          1018 non-null   int64\n",
      " 8   INCOME          1018 non-null   int64\n",
      " 9   DEPENDENTS      1018 non-null   int64\n",
      " 10  SCHOOL          1018 non-null   int64\n",
      " 11  SPM ADDMATH     1018 non-null   int64\n",
      " 12  SPM PHY         1018 non-null   int64\n",
      " 13  SPM CHEM        1018 non-null   int64\n",
      " 14  SEM1 CGPA       1018 non-null   int64\n",
      " 15  SEM1 MATH       1018 non-null   int64\n",
      " 16  SEM1 PHY        1018 non-null   int64\n",
      " 17  SEM1 CHEM       1018 non-null   int64\n",
      " 18  SEM1 COMP SC    1018 non-null   int64\n",
      " 19  SEM2 CGPA       1018 non-null   int64\n",
      "dtypes: int64(20)\n",
      "memory usage: 159.2 KB\n"
     ]
    }
   ],
   "source": [
    "mod2.info()"
   ]
  },
  {
   "cell_type": "code",
   "execution_count": 14,
   "id": "07929116",
   "metadata": {},
   "outputs": [],
   "source": [
    "#CREATE TRAIN TEST SPLIT TO AVOID OVERFITTING\n",
    "from sklearn.model_selection import train_test_split\n",
    "X_train, X_test, Y_train, Y_test = train_test_split(mod2.drop(labels=['SEM2 CGPA'], axis=1), mod2['SEM2 CGPA'], test_size=0.3, random_state=0)"
   ]
  },
  {
   "cell_type": "code",
   "execution_count": 15,
   "id": "50646854",
   "metadata": {},
   "outputs": [
    {
     "name": "stdout",
     "output_type": "stream",
     "text": [
      "<class 'pandas.core.frame.DataFrame'>\n",
      "Int64Index: 712 entries, 361 to 684\n",
      "Data columns (total 19 columns):\n",
      " #   Column          Non-Null Count  Dtype\n",
      "---  ------          --------------  -----\n",
      " 0   LEARNING STYLE  712 non-null    int64\n",
      " 1   PROGRAM         712 non-null    int64\n",
      " 2   YEAR            712 non-null    int64\n",
      " 3   RACE            712 non-null    int64\n",
      " 4   GENDER          712 non-null    int64\n",
      " 5   RELIGION        712 non-null    int64\n",
      " 6   STATE           712 non-null    int64\n",
      " 7   REGION          712 non-null    int64\n",
      " 8   INCOME          712 non-null    int64\n",
      " 9   DEPENDENTS      712 non-null    int64\n",
      " 10  SCHOOL          712 non-null    int64\n",
      " 11  SPM ADDMATH     712 non-null    int64\n",
      " 12  SPM PHY         712 non-null    int64\n",
      " 13  SPM CHEM        712 non-null    int64\n",
      " 14  SEM1 CGPA       712 non-null    int64\n",
      " 15  SEM1 MATH       712 non-null    int64\n",
      " 16  SEM1 PHY        712 non-null    int64\n",
      " 17  SEM1 CHEM       712 non-null    int64\n",
      " 18  SEM1 COMP SC    712 non-null    int64\n",
      "dtypes: int64(19)\n",
      "memory usage: 111.2 KB\n"
     ]
    }
   ],
   "source": [
    "X_train.info()"
   ]
  },
  {
   "cell_type": "code",
   "execution_count": 16,
   "id": "aa887c9d",
   "metadata": {},
   "outputs": [
    {
     "data": {
      "text/plain": [
       "LEARNING STYLE    0\n",
       "PROGRAM           0\n",
       "YEAR              0\n",
       "RACE              0\n",
       "GENDER            0\n",
       "RELIGION          0\n",
       "STATE             0\n",
       "REGION            0\n",
       "INCOME            0\n",
       "DEPENDENTS        0\n",
       "SCHOOL            0\n",
       "SPM ADDMATH       0\n",
       "SPM PHY           0\n",
       "SPM CHEM          0\n",
       "SEM1 CGPA         0\n",
       "SEM1 MATH         0\n",
       "SEM1 PHY          0\n",
       "SEM1 CHEM         0\n",
       "SEM1 COMP SC      0\n",
       "dtype: int64"
      ]
     },
     "execution_count": 16,
     "metadata": {},
     "output_type": "execute_result"
    }
   ],
   "source": [
    "X_train.isnull().sum()"
   ]
  },
  {
   "cell_type": "code",
   "execution_count": 17,
   "id": "52ede892",
   "metadata": {},
   "outputs": [],
   "source": [
    "#FEATURE SELECTION\n",
    "from sklearn.feature_selection import mutual_info_classif\n",
    "\n",
    "mutual_info = mutual_info_classif(X_train, Y_train)"
   ]
  },
  {
   "cell_type": "code",
   "execution_count": 18,
   "id": "d9845624",
   "metadata": {},
   "outputs": [
    {
     "data": {
      "text/plain": [
       "array([0.        , 0.05182734, 0.03669161, 0.00060581, 0.00657508,\n",
       "       0.07844321, 0.03813963, 0.04733881, 0.01311095, 0.01984569,\n",
       "       0.03902269, 0.10350961, 0.04230366, 0.03155706, 0.38452535,\n",
       "       0.31902618, 0.28011136, 0.317134  , 0.22720355])"
      ]
     },
     "execution_count": 18,
     "metadata": {},
     "output_type": "execute_result"
    }
   ],
   "source": [
    "mutual_info"
   ]
  },
  {
   "cell_type": "code",
   "execution_count": 19,
   "id": "203f74ff",
   "metadata": {},
   "outputs": [
    {
     "data": {
      "text/plain": [
       "SEM1 CGPA         0.384525\n",
       "SEM1 MATH         0.319026\n",
       "SEM1 CHEM         0.317134\n",
       "SEM1 PHY          0.280111\n",
       "SEM1 COMP SC      0.227204\n",
       "SPM ADDMATH       0.103510\n",
       "RELIGION          0.078443\n",
       "PROGRAM           0.051827\n",
       "REGION            0.047339\n",
       "SPM PHY           0.042304\n",
       "SCHOOL            0.039023\n",
       "STATE             0.038140\n",
       "YEAR              0.036692\n",
       "SPM CHEM          0.031557\n",
       "DEPENDENTS        0.019846\n",
       "INCOME            0.013111\n",
       "GENDER            0.006575\n",
       "RACE              0.000606\n",
       "LEARNING STYLE    0.000000\n",
       "dtype: float64"
      ]
     },
     "execution_count": 19,
     "metadata": {},
     "output_type": "execute_result"
    }
   ],
   "source": [
    "mutual_info = pd.Series(mutual_info)\n",
    "mutual_info.index = X_train.columns\n",
    "mutual_info.sort_values(ascending=False)"
   ]
  },
  {
   "cell_type": "code",
   "execution_count": 32,
   "id": "f13e1058",
   "metadata": {},
   "outputs": [
    {
     "data": {
      "text/plain": [
       "<AxesSubplot:>"
      ]
     },
     "execution_count": 32,
     "metadata": {},
     "output_type": "execute_result"
    },
    {
     "data": {
      "image/png": "[encoded data removed]",
      "text/plain": [
       "<Figure size 1080x720 with 1 Axes>"
      ]
     },
     "metadata": {
      "needs_background": "light"
     },
     "output_type": "display_data"
    }
   ],
   "source": [
    "mutual_info.sort_values(ascending=False).plot.barh(figsize=(15,10))"
   ]
  },
  {
   "cell_type": "code",
   "execution_count": 36,
   "id": "810c9091",
   "metadata": {},
   "outputs": [],
   "source": [
    "#FEATURE SELCTION : SELECTBEST (INFO GAIN)\n",
    "from sklearn.feature_selection import SelectKBest\n",
    "from sklearn.feature_selection import mutual_info_classif"
   ]
  },
  {
   "cell_type": "code",
   "execution_count": 37,
   "id": "91307019",
   "metadata": {},
   "outputs": [],
   "source": [
    "#TOP 10 IMPORTANT FEATURES\n",
    "top_ten_features = SelectKBest(score_func=mutual_info_classif, k=10)\n",
    "fit = top_ten_features.fit(X_train, Y_train)"
   ]
  },
  {
   "cell_type": "code",
   "execution_count": 38,
   "id": "291cc0d6",
   "metadata": {},
   "outputs": [],
   "source": [
    "dfscores = pd.DataFrame(fit.scores_)\n",
    "dfcolumns = pd.DataFrame(X_train.columns)"
   ]
  },
  {
   "cell_type": "code",
   "execution_count": 39,
   "id": "c4715ee2",
   "metadata": {},
   "outputs": [],
   "source": [
    "#Concat two datafranes fir better visualization\n",
    "featureScores = pd.concat([dfcolumns,dfscores],axis=1)\n",
    "\n",
    "#naming the dataframe columns\n",
    "featureScores.columns = ['Feature','Score']\n",
    "featureScores_index = X_train.columns"
   ]
  },
  {
   "cell_type": "code",
   "execution_count": 40,
   "id": "33f86de0",
   "metadata": {},
   "outputs": [
    {
     "name": "stdout",
     "output_type": "stream",
     "text": [
      "         Feature     Score\n",
      "14     SEM1 CGPA  0.419559\n",
      "15     SEM1 MATH  0.308888\n",
      "17     SEM1 CHEM  0.301852\n",
      "16      SEM1 PHY  0.253780\n",
      "18  SEM1 COMP SC  0.227203\n",
      "10        SCHOOL  0.072317\n",
      "12       SPM PHY  0.068929\n",
      "2           YEAR  0.067131\n",
      "9     DEPENDENTS  0.066655\n",
      "8         INCOME  0.063861\n"
     ]
    }
   ],
   "source": [
    "#Print 10 Best Features\n",
    "print(featureScores.nlargest(10,'Score'))"
   ]
  },
  {
   "cell_type": "code",
   "execution_count": 41,
   "id": "831196db",
   "metadata": {},
   "outputs": [
    {
     "data": {
      "text/plain": [
       "<AxesSubplot:>"
      ]
     },
     "execution_count": 41,
     "metadata": {},
     "output_type": "execute_result"
    },
    {
     "data": {
      "image/png": "[encoded data removed]",
      "text/plain": [
       "<Figure size 1080x720 with 1 Axes>"
      ]
     },
     "metadata": {
      "needs_background": "light"
     },
     "output_type": "display_data"
    }
   ],
   "source": [
    "featureScores.index = X_train.columns\n",
    "featureScores.nlargest(10,'Score').plot.barh(figsize=(15,10))"
   ]
  },
  {
   "cell_type": "code",
   "execution_count": 42,
   "id": "8e757f03",
   "metadata": {},
   "outputs": [
    {
     "data": {
      "text/plain": [
       "(array([7.82203237e+00, 2.59796234e-01, 1.62787934e+00, 2.61655404e+00,\n",
       "        1.02082889e+01, 1.25338038e+00, 2.81001034e+01, 3.78235889e+00,\n",
       "        3.43428747e+00, 2.22602269e+00, 4.51407371e+00, 2.97202646e+01,\n",
       "        2.16573349e+01, 2.91421645e+01, 3.02898619e+02, 3.35143455e+02,\n",
       "        3.42610124e+02, 3.69944147e+02, 4.12148558e+02]),\n",
       " array([9.83192639e-02, 9.92259463e-01, 8.03772848e-01, 6.23893466e-01,\n",
       "        3.70615033e-02, 8.69234101e-01, 1.19035931e-05, 4.36260859e-01,\n",
       "        4.87940160e-01, 6.94267992e-01, 3.40881962e-01, 5.57998902e-06,\n",
       "        2.34479731e-04, 7.31439108e-06, 2.56759270e-64, 2.82688526e-71,\n",
       "        6.90963235e-73, 8.65161003e-79, 6.59483572e-88]))"
      ]
     },
     "execution_count": 42,
     "metadata": {},
     "output_type": "execute_result"
    }
   ],
   "source": [
    "#FEATURE SELECTION : CHI SQUARED TEST\n",
    "from sklearn.feature_selection import chi2\n",
    "f_p_values = chi2(X_train,Y_train)\n",
    "f_p_values\n",
    "## CHI2 RETURNS TWO VALUES : FSCORE & P-VALUE"
   ]
  },
  {
   "cell_type": "code",
   "execution_count": 43,
   "id": "3bf5258d",
   "metadata": {},
   "outputs": [
    {
     "data": {
      "text/plain": [
       "Index(['LEARNING STYLE', 'PROGRAM', 'YEAR', 'RACE', 'GENDER', 'RELIGION',\n",
       "       'STATE', 'REGION', 'INCOME', 'DEPENDENTS', 'SCHOOL', 'SPM ADDMATH',\n",
       "       'SPM PHY', 'SPM CHEM', 'SEM1 CGPA', 'SEM1 MATH', 'SEM1 PHY',\n",
       "       'SEM1 CHEM', 'SEM1 COMP SC'],\n",
       "      dtype='object')"
      ]
     },
     "execution_count": 43,
     "metadata": {},
     "output_type": "execute_result"
    }
   ],
   "source": [
    "X_train.columns"
   ]
  },
  {
   "cell_type": "code",
   "execution_count": 44,
   "id": "d6741e1d",
   "metadata": {},
   "outputs": [],
   "source": [
    "p_values = pd.Series(f_p_values[1])\n",
    "p_values.index = X_train.columns"
   ]
  },
  {
   "cell_type": "code",
   "execution_count": 45,
   "id": "84e3e013",
   "metadata": {},
   "outputs": [
    {
     "data": {
      "text/plain": [
       "LEARNING STYLE    9.831926e-02\n",
       "PROGRAM           9.922595e-01\n",
       "YEAR              8.037728e-01\n",
       "RACE              6.238935e-01\n",
       "GENDER            3.706150e-02\n",
       "RELIGION          8.692341e-01\n",
       "STATE             1.190359e-05\n",
       "REGION            4.362609e-01\n",
       "INCOME            4.879402e-01\n",
       "DEPENDENTS        6.942680e-01\n",
       "SCHOOL            3.408820e-01\n",
       "SPM ADDMATH       5.579989e-06\n",
       "SPM PHY           2.344797e-04\n",
       "SPM CHEM          7.314391e-06\n",
       "SEM1 CGPA         2.567593e-64\n",
       "SEM1 MATH         2.826885e-71\n",
       "SEM1 PHY          6.909632e-73\n",
       "SEM1 CHEM         8.651610e-79\n",
       "SEM1 COMP SC      6.594836e-88\n",
       "dtype: float64"
      ]
     },
     "execution_count": 45,
     "metadata": {},
     "output_type": "execute_result"
    }
   ],
   "source": [
    "p_values"
   ]
  },
  {
   "cell_type": "code",
   "execution_count": 46,
   "id": "2d2a5a9a",
   "metadata": {},
   "outputs": [
    {
     "data": {
      "text/plain": [
       "SEM1 COMP SC      6.594836e-88\n",
       "SEM1 CHEM         8.651610e-79\n",
       "SEM1 PHY          6.909632e-73\n",
       "SEM1 MATH         2.826885e-71\n",
       "SEM1 CGPA         2.567593e-64\n",
       "SPM ADDMATH       5.579989e-06\n",
       "SPM CHEM          7.314391e-06\n",
       "STATE             1.190359e-05\n",
       "SPM PHY           2.344797e-04\n",
       "GENDER            3.706150e-02\n",
       "LEARNING STYLE    9.831926e-02\n",
       "SCHOOL            3.408820e-01\n",
       "REGION            4.362609e-01\n",
       "INCOME            4.879402e-01\n",
       "RACE              6.238935e-01\n",
       "DEPENDENTS        6.942680e-01\n",
       "YEAR              8.037728e-01\n",
       "RELIGION          8.692341e-01\n",
       "PROGRAM           9.922595e-01\n",
       "dtype: float64"
      ]
     },
     "execution_count": 46,
     "metadata": {},
     "output_type": "execute_result"
    }
   ],
   "source": [
    "p_values.sort_values(ascending=True)"
   ]
  },
  {
   "cell_type": "code",
   "execution_count": 48,
   "id": "6a382568",
   "metadata": {},
   "outputs": [
    {
     "data": {
      "text/plain": [
       "<AxesSubplot:>"
      ]
     },
     "execution_count": 48,
     "metadata": {},
     "output_type": "execute_result"
    },
    {
     "data": {
      "image/png": "[encoded data removed]",
      "text/plain": [
       "<Figure size 1080x720 with 1 Axes>"
      ]
     },
     "metadata": {
      "needs_background": "light"
     },
     "output_type": "display_data"
    }
   ],
   "source": [
    "p_values.sort_values(ascending=True).plot.barh(figsize=(15,10))"
   ]
  },
  {
   "cell_type": "code",
   "execution_count": null,
   "id": "9bfe817e",
   "metadata": {},
   "outputs": [],
   "source": [
    "#OBSERVATION"
   ]
  },
  {
   "cell_type": "markdown",
   "id": "db7550a0",
   "metadata": {},
   "source": [
    "FEATURED SELECTION : SELECTKBEST (CHI SQUARED)"
   ]
  },
  {
   "cell_type": "code",
   "execution_count": 49,
   "id": "42e3b026",
   "metadata": {},
   "outputs": [],
   "source": [
    "from sklearn.feature_selection import SelectKBest\n",
    "from sklearn.feature_selection import chi2"
   ]
  },
  {
   "cell_type": "code",
   "execution_count": 50,
   "id": "f36daf0b",
   "metadata": {},
   "outputs": [],
   "source": [
    "# TOP 10 IMPORTANT FEATURES\n",
    "top_ten_features = SelectKBest(score_func=chi2,k=10)\n",
    "fit = top_ten_features.fit(X_train,Y_train)"
   ]
  },
  {
   "cell_type": "code",
   "execution_count": 51,
   "id": "0e7ff8b4",
   "metadata": {},
   "outputs": [],
   "source": [
    "dfscores = pd.DataFrame(fit.scores_)\n",
    "dfcolumns = pd.DataFrame(X_train.columns)"
   ]
  },
  {
   "cell_type": "code",
   "execution_count": 52,
   "id": "374112d3",
   "metadata": {},
   "outputs": [],
   "source": [
    "# concat two dataframes for better visualization\n",
    "featureScores = pd.concat([dfcolumns,dfscores],axis=1)\n",
    "# naming the dataframe columns\n",
    "featureScores.columns = ['Feature','Score']\n",
    "featureScores_index = X_train.columns"
   ]
  },
  {
   "cell_type": "code",
   "execution_count": 53,
   "id": "aabce103",
   "metadata": {},
   "outputs": [
    {
     "name": "stdout",
     "output_type": "stream",
     "text": [
      "         Feature       Score\n",
      "18  SEM1 COMP SC  412.148558\n",
      "17     SEM1 CHEM  369.944147\n",
      "16      SEM1 PHY  342.610124\n",
      "15     SEM1 MATH  335.143455\n",
      "14     SEM1 CGPA  302.898619\n",
      "11   SPM ADDMATH   29.720265\n",
      "13      SPM CHEM   29.142165\n",
      "6          STATE   28.100103\n",
      "12       SPM PHY   21.657335\n",
      "4         GENDER   10.208289\n"
     ]
    }
   ],
   "source": [
    "# print 10 best features\n",
    "print(featureScores.nlargest(10,'Score'))"
   ]
  },
  {
   "cell_type": "code",
   "execution_count": 65,
   "id": "dfc7904f",
   "metadata": {},
   "outputs": [
    {
     "data": {
      "text/plain": [
       "<AxesSubplot:>"
      ]
     },
     "execution_count": 65,
     "metadata": {},
     "output_type": "execute_result"
    },
    {
     "data": {
      "image/png": "[encoded data removed]",
      "text/plain": [
       "<Figure size 1080x720 with 1 Axes>"
      ]
     },
     "metadata": {
      "needs_background": "light"
     },
     "output_type": "display_data"
    }
   ],
   "source": [
    "featureScores.index = X_train.columns\n",
    "featureScores.nlargest(10,'Score').plot.barh(figsize=(15,10))"
   ]
  },
  {
   "cell_type": "code",
   "execution_count": null,
   "id": "d4344af7",
   "metadata": {},
   "outputs": [],
   "source": [
    "#FEATURE SELECTION : FEATURE IMPORTANCE"
   ]
  },
  {
   "cell_type": "code",
   "execution_count": 59,
   "id": "0d62ce8c",
   "metadata": {},
   "outputs": [],
   "source": [
    "from sklearn.ensemble import ExtraTreesClassifier\n",
    "import matplotlib.pyplot as plt"
   ]
  },
  {
   "cell_type": "code",
   "execution_count": 60,
   "id": "a0b72301",
   "metadata": {},
   "outputs": [
    {
     "data": {
      "text/plain": [
       "ExtraTreesClassifier()"
      ]
     },
     "execution_count": 60,
     "metadata": {},
     "output_type": "execute_result"
    }
   ],
   "source": [
    "model = ExtraTreesClassifier()\n",
    "model.fit(X_train, Y_train)"
   ]
  },
  {
   "cell_type": "code",
   "execution_count": 61,
   "id": "2b22bcf9",
   "metadata": {},
   "outputs": [
    {
     "name": "stdout",
     "output_type": "stream",
     "text": [
      "[0.03140305 0.01285914 0.02434997 0.00659688 0.02435115 0.00865179\n",
      " 0.02274008 0.03623732 0.04525622 0.04867197 0.03112273 0.04702213\n",
      " 0.04662872 0.0451564  0.13545706 0.1319491  0.0955706  0.11309986\n",
      " 0.09287585]\n"
     ]
    }
   ],
   "source": [
    "print(model.feature_importances_)"
   ]
  },
  {
   "cell_type": "code",
   "execution_count": 70,
   "id": "579f3e84",
   "metadata": {},
   "outputs": [
    {
     "data": {
      "text/plain": [
       "<function matplotlib.pyplot.show(close=None, block=None)>"
      ]
     },
     "execution_count": 70,
     "metadata": {},
     "output_type": "execute_result"
    },
    {
     "data": {
      "image/png": "[encoded data removed]",
      "text/plain": [
       "<Figure size 432x288 with 1 Axes>"
      ]
     },
     "metadata": {
      "needs_background": "light"
     },
     "output_type": "display_data"
    }
   ],
   "source": [
    "feature_importances = pd.Series(model.feature_importances_, index=X_train.columns)\n",
    "feature_importances.nlargest(10).plot(kind='barh')\n",
    "plt.show"
   ]
  },
  {
   "cell_type": "code",
   "execution_count": 82,
   "id": "999b0099",
   "metadata": {},
   "outputs": [],
   "source": [
    "#FEATURE SELECTION : SELECTKBEST (F-SCORE) "
   ]
  },
  {
   "cell_type": "code",
   "execution_count": null,
   "id": "4d77bfef",
   "metadata": {},
   "outputs": [],
   "source": []
  },
  {
   "cell_type": "code",
   "execution_count": null,
   "id": "4e138a03",
   "metadata": {},
   "outputs": [],
   "source": []
  },
  {
   "cell_type": "code",
   "execution_count": null,
   "id": "015d1f3d",
   "metadata": {},
   "outputs": [],
   "source": []
  },
  {
   "cell_type": "code",
   "execution_count": null,
   "id": "75dc5858",
   "metadata": {},
   "outputs": [],
   "source": []
  },
  {
   "cell_type": "code",
   "execution_count": null,
   "id": "351ad10a",
   "metadata": {},
   "outputs": [],
   "source": []
  },
  {
   "cell_type": "code",
   "execution_count": null,
   "id": "9ff07318",
   "metadata": {},
   "outputs": [],
   "source": []
  },
  {
   "cell_type": "code",
   "execution_count": null,
   "id": "801318e2",
   "metadata": {},
   "outputs": [],
   "source": []
  }
 ],
 "metadata": {
  "kernelspec": {
   "display_name": "Python 3",
   "language": "python",
   "name": "python3"
  },
  "language_info": {
   "codemirror_mode": {
    "name": "ipython",
    "version": 3
   },
   "file_extension": ".py",
   "mimetype": "text/x-python",
   "name": "python",
   "nbconvert_exporter": "python",
   "pygments_lexer": "ipython3",
   "version": "3.8.8"
  }
 },
 "nbformat": 4,
 "nbformat_minor": 5
}
