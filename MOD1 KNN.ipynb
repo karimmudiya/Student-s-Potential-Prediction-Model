{
 "cells": [
  {
   "cell_type": "markdown",
   "id": "1f570fdc",
   "metadata": {},
   "source": [
    "# IMPORT PACKAGES & LOAD DATA"
   ]
  },
  {
   "cell_type": "code",
   "execution_count": 70,
   "id": "a93005c6",
   "metadata": {},
   "outputs": [],
   "source": [
    "import numpy as np\n",
    "import pandas as pd"
   ]
  },
  {
   "cell_type": "code",
   "execution_count": 71,
   "id": "5b58c4e4",
   "metadata": {},
   "outputs": [],
   "source": [
    "mod1 = pd.read_csv(\"mod1.csv\")"
   ]
  },
  {
   "cell_type": "markdown",
   "id": "146df2fb",
   "metadata": {},
   "source": [
    "# DATA UNDERSTANDING"
   ]
  },
  {
   "cell_type": "code",
   "execution_count": 72,
   "id": "c874d653",
   "metadata": {},
   "outputs": [
    {
     "data": {
      "text/html": [
       "<div>\n",
       "<style scoped>\n",
       "    .dataframe tbody tr th:only-of-type {\n",
       "        vertical-align: middle;\n",
       "    }\n",
       "\n",
       "    .dataframe tbody tr th {\n",
       "        vertical-align: top;\n",
       "    }\n",
       "\n",
       "    .dataframe thead th {\n",
       "        text-align: right;\n",
       "    }\n",
       "</style>\n",
       "<table border=\"1\" class=\"dataframe\">\n",
       "  <thead>\n",
       "    <tr style=\"text-align: right;\">\n",
       "      <th></th>\n",
       "      <th>STUDENT ID</th>\n",
       "      <th>LEARNING STYLE</th>\n",
       "      <th>PROGRAM</th>\n",
       "      <th>YEAR</th>\n",
       "      <th>RACE</th>\n",
       "      <th>GENDER</th>\n",
       "      <th>RELIGION</th>\n",
       "      <th>STATE</th>\n",
       "      <th>REGION</th>\n",
       "      <th>INCOME</th>\n",
       "      <th>...</th>\n",
       "      <th>SPM ADDMATH</th>\n",
       "      <th>SPM PHY</th>\n",
       "      <th>SPM CHEM</th>\n",
       "      <th>SPM BIO</th>\n",
       "      <th>SEM1 CGPA</th>\n",
       "      <th>SEM1 MATH</th>\n",
       "      <th>SEM1 PHY</th>\n",
       "      <th>SEM1 CHEM</th>\n",
       "      <th>SEM1 BIO</th>\n",
       "      <th>SEM2 CGPA</th>\n",
       "    </tr>\n",
       "  </thead>\n",
       "  <tbody>\n",
       "    <tr>\n",
       "      <th>0</th>\n",
       "      <td>2019/2020|MS1918176789</td>\n",
       "      <td>0</td>\n",
       "      <td>1</td>\n",
       "      <td>1</td>\n",
       "      <td>3</td>\n",
       "      <td>0</td>\n",
       "      <td>2</td>\n",
       "      <td>1</td>\n",
       "      <td>1</td>\n",
       "      <td>6</td>\n",
       "      <td>...</td>\n",
       "      <td>6</td>\n",
       "      <td>5</td>\n",
       "      <td>5</td>\n",
       "      <td>3</td>\n",
       "      <td>1</td>\n",
       "      <td>2</td>\n",
       "      <td>1</td>\n",
       "      <td>1</td>\n",
       "      <td>2</td>\n",
       "      <td>1</td>\n",
       "    </tr>\n",
       "    <tr>\n",
       "      <th>1</th>\n",
       "      <td>2019/2020|MS1818177321</td>\n",
       "      <td>0</td>\n",
       "      <td>1</td>\n",
       "      <td>2</td>\n",
       "      <td>3</td>\n",
       "      <td>0</td>\n",
       "      <td>2</td>\n",
       "      <td>1</td>\n",
       "      <td>0</td>\n",
       "      <td>1</td>\n",
       "      <td>...</td>\n",
       "      <td>5</td>\n",
       "      <td>4</td>\n",
       "      <td>6</td>\n",
       "      <td>5</td>\n",
       "      <td>1</td>\n",
       "      <td>1</td>\n",
       "      <td>4</td>\n",
       "      <td>2</td>\n",
       "      <td>5</td>\n",
       "      <td>1</td>\n",
       "    </tr>\n",
       "    <tr>\n",
       "      <th>2</th>\n",
       "      <td>2019/2020|MS1918177022</td>\n",
       "      <td>0</td>\n",
       "      <td>1</td>\n",
       "      <td>1</td>\n",
       "      <td>3</td>\n",
       "      <td>0</td>\n",
       "      <td>2</td>\n",
       "      <td>1</td>\n",
       "      <td>1</td>\n",
       "      <td>7</td>\n",
       "      <td>...</td>\n",
       "      <td>7</td>\n",
       "      <td>2</td>\n",
       "      <td>4</td>\n",
       "      <td>5</td>\n",
       "      <td>1</td>\n",
       "      <td>4</td>\n",
       "      <td>1</td>\n",
       "      <td>3</td>\n",
       "      <td>3</td>\n",
       "      <td>1</td>\n",
       "    </tr>\n",
       "    <tr>\n",
       "      <th>3</th>\n",
       "      <td>2019/2020|MS1818177340</td>\n",
       "      <td>0</td>\n",
       "      <td>1</td>\n",
       "      <td>2</td>\n",
       "      <td>3</td>\n",
       "      <td>0</td>\n",
       "      <td>2</td>\n",
       "      <td>8</td>\n",
       "      <td>2</td>\n",
       "      <td>2</td>\n",
       "      <td>...</td>\n",
       "      <td>5</td>\n",
       "      <td>3</td>\n",
       "      <td>6</td>\n",
       "      <td>4</td>\n",
       "      <td>2</td>\n",
       "      <td>3</td>\n",
       "      <td>5</td>\n",
       "      <td>4</td>\n",
       "      <td>1</td>\n",
       "      <td>2</td>\n",
       "    </tr>\n",
       "    <tr>\n",
       "      <th>4</th>\n",
       "      <td>2019/2020|MS1818177124</td>\n",
       "      <td>0</td>\n",
       "      <td>1</td>\n",
       "      <td>2</td>\n",
       "      <td>3</td>\n",
       "      <td>0</td>\n",
       "      <td>2</td>\n",
       "      <td>1</td>\n",
       "      <td>2</td>\n",
       "      <td>3</td>\n",
       "      <td>...</td>\n",
       "      <td>3</td>\n",
       "      <td>4</td>\n",
       "      <td>6</td>\n",
       "      <td>5</td>\n",
       "      <td>1</td>\n",
       "      <td>1</td>\n",
       "      <td>5</td>\n",
       "      <td>3</td>\n",
       "      <td>2</td>\n",
       "      <td>1</td>\n",
       "    </tr>\n",
       "  </tbody>\n",
       "</table>\n",
       "<p>5 rows × 22 columns</p>\n",
       "</div>"
      ],
      "text/plain": [
       "               STUDENT ID  LEARNING STYLE  PROGRAM  YEAR  RACE  GENDER  \\\n",
       "0  2019/2020|MS1918176789               0        1     1     3       0   \n",
       "1  2019/2020|MS1818177321               0        1     2     3       0   \n",
       "2  2019/2020|MS1918177022               0        1     1     3       0   \n",
       "3  2019/2020|MS1818177340               0        1     2     3       0   \n",
       "4  2019/2020|MS1818177124               0        1     2     3       0   \n",
       "\n",
       "   RELIGION  STATE  REGION  INCOME  ...  SPM ADDMATH  SPM PHY  SPM CHEM  \\\n",
       "0         2      1       1       6  ...            6        5         5   \n",
       "1         2      1       0       1  ...            5        4         6   \n",
       "2         2      1       1       7  ...            7        2         4   \n",
       "3         2      8       2       2  ...            5        3         6   \n",
       "4         2      1       2       3  ...            3        4         6   \n",
       "\n",
       "   SPM BIO  SEM1 CGPA  SEM1 MATH  SEM1 PHY  SEM1 CHEM  SEM1 BIO  SEM2 CGPA  \n",
       "0        3          1          2         1          1         2          1  \n",
       "1        5          1          1         4          2         5          1  \n",
       "2        5          1          4         1          3         3          1  \n",
       "3        4          2          3         5          4         1          2  \n",
       "4        5          1          1         5          3         2          1  \n",
       "\n",
       "[5 rows x 22 columns]"
      ]
     },
     "execution_count": 72,
     "metadata": {},
     "output_type": "execute_result"
    }
   ],
   "source": [
    "mod1.head()"
   ]
  },
  {
   "cell_type": "code",
   "execution_count": 73,
   "id": "f63b3e88",
   "metadata": {},
   "outputs": [
    {
     "name": "stdout",
     "output_type": "stream",
     "text": [
      "<class 'pandas.core.frame.DataFrame'>\n",
      "RangeIndex: 1241 entries, 0 to 1240\n",
      "Data columns (total 22 columns):\n",
      " #   Column          Non-Null Count  Dtype \n",
      "---  ------          --------------  ----- \n",
      " 0   STUDENT ID      1241 non-null   object\n",
      " 1   LEARNING STYLE  1241 non-null   int64 \n",
      " 2   PROGRAM         1241 non-null   int64 \n",
      " 3   YEAR            1241 non-null   int64 \n",
      " 4   RACE            1241 non-null   int64 \n",
      " 5   GENDER          1241 non-null   int64 \n",
      " 6   RELIGION        1241 non-null   int64 \n",
      " 7   STATE           1241 non-null   int64 \n",
      " 8   REGION          1241 non-null   int64 \n",
      " 9   INCOME          1241 non-null   int64 \n",
      " 10  DEPENDENTS      1241 non-null   int64 \n",
      " 11  SCHOOL          1241 non-null   int64 \n",
      " 12  SPM ADDMATH     1241 non-null   int64 \n",
      " 13  SPM PHY         1241 non-null   int64 \n",
      " 14  SPM CHEM        1241 non-null   int64 \n",
      " 15  SPM BIO         1241 non-null   int64 \n",
      " 16  SEM1 CGPA       1241 non-null   int64 \n",
      " 17  SEM1 MATH       1241 non-null   int64 \n",
      " 18  SEM1 PHY        1241 non-null   int64 \n",
      " 19  SEM1 CHEM       1241 non-null   int64 \n",
      " 20  SEM1 BIO        1241 non-null   int64 \n",
      " 21  SEM2 CGPA       1241 non-null   int64 \n",
      "dtypes: int64(21), object(1)\n",
      "memory usage: 213.4+ KB\n"
     ]
    }
   ],
   "source": [
    "mod1.info()"
   ]
  },
  {
   "cell_type": "code",
   "execution_count": 74,
   "id": "5190382a",
   "metadata": {},
   "outputs": [
    {
     "data": {
      "text/plain": [
       "STUDENT ID        0\n",
       "LEARNING STYLE    0\n",
       "PROGRAM           0\n",
       "YEAR              0\n",
       "RACE              0\n",
       "GENDER            0\n",
       "RELIGION          0\n",
       "STATE             0\n",
       "REGION            0\n",
       "INCOME            0\n",
       "DEPENDENTS        0\n",
       "SCHOOL            0\n",
       "SPM ADDMATH       0\n",
       "SPM PHY           0\n",
       "SPM CHEM          0\n",
       "SPM BIO           0\n",
       "SEM1 CGPA         0\n",
       "SEM1 MATH         0\n",
       "SEM1 PHY          0\n",
       "SEM1 CHEM         0\n",
       "SEM1 BIO          0\n",
       "SEM2 CGPA         0\n",
       "dtype: int64"
      ]
     },
     "execution_count": 74,
     "metadata": {},
     "output_type": "execute_result"
    }
   ],
   "source": [
    "mod1.isnull().sum()"
   ]
  },
  {
   "cell_type": "markdown",
   "id": "ebcc8e0a",
   "metadata": {},
   "source": [
    "# DATA PREPARATION "
   ]
  },
  {
   "cell_type": "code",
   "execution_count": 75,
   "id": "4430aa6b",
   "metadata": {},
   "outputs": [],
   "source": [
    "### DROP 'STUDENT ID' COLUMN"
   ]
  },
  {
   "cell_type": "code",
   "execution_count": 76,
   "id": "f479ace3",
   "metadata": {},
   "outputs": [],
   "source": [
    "mod1 = pd.DataFrame(mod1)"
   ]
  },
  {
   "cell_type": "code",
   "execution_count": 77,
   "id": "f84246f9",
   "metadata": {},
   "outputs": [
    {
     "name": "stdout",
     "output_type": "stream",
     "text": [
      "<class 'pandas.core.frame.DataFrame'>\n",
      "RangeIndex: 1241 entries, 0 to 1240\n",
      "Data columns (total 22 columns):\n",
      " #   Column          Non-Null Count  Dtype \n",
      "---  ------          --------------  ----- \n",
      " 0   STUDENT ID      1241 non-null   object\n",
      " 1   LEARNING STYLE  1241 non-null   int64 \n",
      " 2   PROGRAM         1241 non-null   int64 \n",
      " 3   YEAR            1241 non-null   int64 \n",
      " 4   RACE            1241 non-null   int64 \n",
      " 5   GENDER          1241 non-null   int64 \n",
      " 6   RELIGION        1241 non-null   int64 \n",
      " 7   STATE           1241 non-null   int64 \n",
      " 8   REGION          1241 non-null   int64 \n",
      " 9   INCOME          1241 non-null   int64 \n",
      " 10  DEPENDENTS      1241 non-null   int64 \n",
      " 11  SCHOOL          1241 non-null   int64 \n",
      " 12  SPM ADDMATH     1241 non-null   int64 \n",
      " 13  SPM PHY         1241 non-null   int64 \n",
      " 14  SPM CHEM        1241 non-null   int64 \n",
      " 15  SPM BIO         1241 non-null   int64 \n",
      " 16  SEM1 CGPA       1241 non-null   int64 \n",
      " 17  SEM1 MATH       1241 non-null   int64 \n",
      " 18  SEM1 PHY        1241 non-null   int64 \n",
      " 19  SEM1 CHEM       1241 non-null   int64 \n",
      " 20  SEM1 BIO        1241 non-null   int64 \n",
      " 21  SEM2 CGPA       1241 non-null   int64 \n",
      "dtypes: int64(21), object(1)\n",
      "memory usage: 213.4+ KB\n"
     ]
    }
   ],
   "source": [
    "mod1.info()"
   ]
  },
  {
   "cell_type": "code",
   "execution_count": 78,
   "id": "c40c9346",
   "metadata": {},
   "outputs": [],
   "source": [
    "mod1 = mod1.drop([\"STUDENT ID\"],axis=1)"
   ]
  },
  {
   "cell_type": "code",
   "execution_count": 79,
   "id": "139b4329",
   "metadata": {},
   "outputs": [
    {
     "data": {
      "text/html": [
       "<div>\n",
       "<style scoped>\n",
       "    .dataframe tbody tr th:only-of-type {\n",
       "        vertical-align: middle;\n",
       "    }\n",
       "\n",
       "    .dataframe tbody tr th {\n",
       "        vertical-align: top;\n",
       "    }\n",
       "\n",
       "    .dataframe thead th {\n",
       "        text-align: right;\n",
       "    }\n",
       "</style>\n",
       "<table border=\"1\" class=\"dataframe\">\n",
       "  <thead>\n",
       "    <tr style=\"text-align: right;\">\n",
       "      <th></th>\n",
       "      <th>LEARNING STYLE</th>\n",
       "      <th>PROGRAM</th>\n",
       "      <th>YEAR</th>\n",
       "      <th>RACE</th>\n",
       "      <th>GENDER</th>\n",
       "      <th>RELIGION</th>\n",
       "      <th>STATE</th>\n",
       "      <th>REGION</th>\n",
       "      <th>INCOME</th>\n",
       "      <th>DEPENDENTS</th>\n",
       "      <th>...</th>\n",
       "      <th>SPM ADDMATH</th>\n",
       "      <th>SPM PHY</th>\n",
       "      <th>SPM CHEM</th>\n",
       "      <th>SPM BIO</th>\n",
       "      <th>SEM1 CGPA</th>\n",
       "      <th>SEM1 MATH</th>\n",
       "      <th>SEM1 PHY</th>\n",
       "      <th>SEM1 CHEM</th>\n",
       "      <th>SEM1 BIO</th>\n",
       "      <th>SEM2 CGPA</th>\n",
       "    </tr>\n",
       "  </thead>\n",
       "  <tbody>\n",
       "    <tr>\n",
       "      <th>0</th>\n",
       "      <td>0</td>\n",
       "      <td>1</td>\n",
       "      <td>1</td>\n",
       "      <td>3</td>\n",
       "      <td>0</td>\n",
       "      <td>2</td>\n",
       "      <td>1</td>\n",
       "      <td>1</td>\n",
       "      <td>6</td>\n",
       "      <td>6</td>\n",
       "      <td>...</td>\n",
       "      <td>6</td>\n",
       "      <td>5</td>\n",
       "      <td>5</td>\n",
       "      <td>3</td>\n",
       "      <td>1</td>\n",
       "      <td>2</td>\n",
       "      <td>1</td>\n",
       "      <td>1</td>\n",
       "      <td>2</td>\n",
       "      <td>1</td>\n",
       "    </tr>\n",
       "    <tr>\n",
       "      <th>1</th>\n",
       "      <td>0</td>\n",
       "      <td>1</td>\n",
       "      <td>2</td>\n",
       "      <td>3</td>\n",
       "      <td>0</td>\n",
       "      <td>2</td>\n",
       "      <td>1</td>\n",
       "      <td>0</td>\n",
       "      <td>1</td>\n",
       "      <td>6</td>\n",
       "      <td>...</td>\n",
       "      <td>5</td>\n",
       "      <td>4</td>\n",
       "      <td>6</td>\n",
       "      <td>5</td>\n",
       "      <td>1</td>\n",
       "      <td>1</td>\n",
       "      <td>4</td>\n",
       "      <td>2</td>\n",
       "      <td>5</td>\n",
       "      <td>1</td>\n",
       "    </tr>\n",
       "    <tr>\n",
       "      <th>2</th>\n",
       "      <td>0</td>\n",
       "      <td>1</td>\n",
       "      <td>1</td>\n",
       "      <td>3</td>\n",
       "      <td>0</td>\n",
       "      <td>2</td>\n",
       "      <td>1</td>\n",
       "      <td>1</td>\n",
       "      <td>7</td>\n",
       "      <td>2</td>\n",
       "      <td>...</td>\n",
       "      <td>7</td>\n",
       "      <td>2</td>\n",
       "      <td>4</td>\n",
       "      <td>5</td>\n",
       "      <td>1</td>\n",
       "      <td>4</td>\n",
       "      <td>1</td>\n",
       "      <td>3</td>\n",
       "      <td>3</td>\n",
       "      <td>1</td>\n",
       "    </tr>\n",
       "    <tr>\n",
       "      <th>3</th>\n",
       "      <td>0</td>\n",
       "      <td>1</td>\n",
       "      <td>2</td>\n",
       "      <td>3</td>\n",
       "      <td>0</td>\n",
       "      <td>2</td>\n",
       "      <td>8</td>\n",
       "      <td>2</td>\n",
       "      <td>2</td>\n",
       "      <td>6</td>\n",
       "      <td>...</td>\n",
       "      <td>5</td>\n",
       "      <td>3</td>\n",
       "      <td>6</td>\n",
       "      <td>4</td>\n",
       "      <td>2</td>\n",
       "      <td>3</td>\n",
       "      <td>5</td>\n",
       "      <td>4</td>\n",
       "      <td>1</td>\n",
       "      <td>2</td>\n",
       "    </tr>\n",
       "    <tr>\n",
       "      <th>4</th>\n",
       "      <td>0</td>\n",
       "      <td>1</td>\n",
       "      <td>2</td>\n",
       "      <td>3</td>\n",
       "      <td>0</td>\n",
       "      <td>2</td>\n",
       "      <td>1</td>\n",
       "      <td>2</td>\n",
       "      <td>3</td>\n",
       "      <td>4</td>\n",
       "      <td>...</td>\n",
       "      <td>3</td>\n",
       "      <td>4</td>\n",
       "      <td>6</td>\n",
       "      <td>5</td>\n",
       "      <td>1</td>\n",
       "      <td>1</td>\n",
       "      <td>5</td>\n",
       "      <td>3</td>\n",
       "      <td>2</td>\n",
       "      <td>1</td>\n",
       "    </tr>\n",
       "  </tbody>\n",
       "</table>\n",
       "<p>5 rows × 21 columns</p>\n",
       "</div>"
      ],
      "text/plain": [
       "   LEARNING STYLE  PROGRAM  YEAR  RACE  GENDER  RELIGION  STATE  REGION  \\\n",
       "0               0        1     1     3       0         2      1       1   \n",
       "1               0        1     2     3       0         2      1       0   \n",
       "2               0        1     1     3       0         2      1       1   \n",
       "3               0        1     2     3       0         2      8       2   \n",
       "4               0        1     2     3       0         2      1       2   \n",
       "\n",
       "   INCOME  DEPENDENTS  ...  SPM ADDMATH  SPM PHY  SPM CHEM  SPM BIO  \\\n",
       "0       6           6  ...            6        5         5        3   \n",
       "1       1           6  ...            5        4         6        5   \n",
       "2       7           2  ...            7        2         4        5   \n",
       "3       2           6  ...            5        3         6        4   \n",
       "4       3           4  ...            3        4         6        5   \n",
       "\n",
       "   SEM1 CGPA  SEM1 MATH  SEM1 PHY  SEM1 CHEM  SEM1 BIO  SEM2 CGPA  \n",
       "0          1          2         1          1         2          1  \n",
       "1          1          1         4          2         5          1  \n",
       "2          1          4         1          3         3          1  \n",
       "3          2          3         5          4         1          2  \n",
       "4          1          1         5          3         2          1  \n",
       "\n",
       "[5 rows x 21 columns]"
      ]
     },
     "execution_count": 79,
     "metadata": {},
     "output_type": "execute_result"
    }
   ],
   "source": [
    "mod1.head()"
   ]
  },
  {
   "cell_type": "markdown",
   "id": "1bd65b81",
   "metadata": {},
   "source": [
    "# MODELLING : TRAIN_TEST_SPLIT"
   ]
  },
  {
   "cell_type": "code",
   "execution_count": 80,
   "id": "4a8e3554",
   "metadata": {},
   "outputs": [],
   "source": [
    "## CREATE TRAIN TEST SPLIT TO AVOID OVERFITTING\n",
    "from sklearn.model_selection import train_test_split\n",
    "X_train,X_test,y_train,y_test = train_test_split(mod1.drop(labels=['SEM2 CGPA'],axis=1),\n",
    "                                                 mod1['SEM2 CGPA'],test_size=0.3,random_state=0)"
   ]
  },
  {
   "cell_type": "code",
   "execution_count": 81,
   "id": "b77e673c",
   "metadata": {},
   "outputs": [
    {
     "name": "stdout",
     "output_type": "stream",
     "text": [
      "<class 'pandas.core.frame.DataFrame'>\n",
      "Int64Index: 868 entries, 959 to 684\n",
      "Data columns (total 20 columns):\n",
      " #   Column          Non-Null Count  Dtype\n",
      "---  ------          --------------  -----\n",
      " 0   LEARNING STYLE  868 non-null    int64\n",
      " 1   PROGRAM         868 non-null    int64\n",
      " 2   YEAR            868 non-null    int64\n",
      " 3   RACE            868 non-null    int64\n",
      " 4   GENDER          868 non-null    int64\n",
      " 5   RELIGION        868 non-null    int64\n",
      " 6   STATE           868 non-null    int64\n",
      " 7   REGION          868 non-null    int64\n",
      " 8   INCOME          868 non-null    int64\n",
      " 9   DEPENDENTS      868 non-null    int64\n",
      " 10  SCHOOL          868 non-null    int64\n",
      " 11  SPM ADDMATH     868 non-null    int64\n",
      " 12  SPM PHY         868 non-null    int64\n",
      " 13  SPM CHEM        868 non-null    int64\n",
      " 14  SPM BIO         868 non-null    int64\n",
      " 15  SEM1 CGPA       868 non-null    int64\n",
      " 16  SEM1 MATH       868 non-null    int64\n",
      " 17  SEM1 PHY        868 non-null    int64\n",
      " 18  SEM1 CHEM       868 non-null    int64\n",
      " 19  SEM1 BIO        868 non-null    int64\n",
      "dtypes: int64(20)\n",
      "memory usage: 142.4 KB\n"
     ]
    }
   ],
   "source": [
    "X_train.info()"
   ]
  },
  {
   "cell_type": "code",
   "execution_count": 82,
   "id": "2455b56a",
   "metadata": {},
   "outputs": [
    {
     "name": "stdout",
     "output_type": "stream",
     "text": [
      "<class 'pandas.core.frame.DataFrame'>\n",
      "Int64Index: 373 entries, 1031 to 825\n",
      "Data columns (total 20 columns):\n",
      " #   Column          Non-Null Count  Dtype\n",
      "---  ------          --------------  -----\n",
      " 0   LEARNING STYLE  373 non-null    int64\n",
      " 1   PROGRAM         373 non-null    int64\n",
      " 2   YEAR            373 non-null    int64\n",
      " 3   RACE            373 non-null    int64\n",
      " 4   GENDER          373 non-null    int64\n",
      " 5   RELIGION        373 non-null    int64\n",
      " 6   STATE           373 non-null    int64\n",
      " 7   REGION          373 non-null    int64\n",
      " 8   INCOME          373 non-null    int64\n",
      " 9   DEPENDENTS      373 non-null    int64\n",
      " 10  SCHOOL          373 non-null    int64\n",
      " 11  SPM ADDMATH     373 non-null    int64\n",
      " 12  SPM PHY         373 non-null    int64\n",
      " 13  SPM CHEM        373 non-null    int64\n",
      " 14  SPM BIO         373 non-null    int64\n",
      " 15  SEM1 CGPA       373 non-null    int64\n",
      " 16  SEM1 MATH       373 non-null    int64\n",
      " 17  SEM1 PHY        373 non-null    int64\n",
      " 18  SEM1 CHEM       373 non-null    int64\n",
      " 19  SEM1 BIO        373 non-null    int64\n",
      "dtypes: int64(20)\n",
      "memory usage: 61.2 KB\n"
     ]
    }
   ],
   "source": [
    "X_test.info()"
   ]
  },
  {
   "cell_type": "code",
   "execution_count": 83,
   "id": "87c1cfeb",
   "metadata": {},
   "outputs": [
    {
     "data": {
      "text/plain": [
       "959     1\n",
       "200     1\n",
       "1093    1\n",
       "65      2\n",
       "1128    1\n",
       "Name: SEM2 CGPA, dtype: int64"
      ]
     },
     "execution_count": 83,
     "metadata": {},
     "output_type": "execute_result"
    }
   ],
   "source": [
    "y_train.head()"
   ]
  },
  {
   "cell_type": "code",
   "execution_count": 84,
   "id": "e124570e",
   "metadata": {},
   "outputs": [
    {
     "data": {
      "text/plain": [
       "1031    0\n",
       "124     0\n",
       "184     1\n",
       "766     4\n",
       "18      1\n",
       "Name: SEM2 CGPA, dtype: int64"
      ]
     },
     "execution_count": 84,
     "metadata": {},
     "output_type": "execute_result"
    }
   ],
   "source": [
    "y_test.head()"
   ]
  },
  {
   "cell_type": "markdown",
   "id": "70e830f1",
   "metadata": {},
   "source": [
    "# MODELLING : INSTANTIATE & FIT"
   ]
  },
  {
   "cell_type": "code",
   "execution_count": 85,
   "id": "cf4a5496",
   "metadata": {},
   "outputs": [
    {
     "data": {
      "text/plain": [
       "KNeighborsClassifier(n_neighbors=1)"
      ]
     },
     "execution_count": 85,
     "metadata": {},
     "output_type": "execute_result"
    }
   ],
   "source": [
    "from sklearn.neighbors import KNeighborsClassifier\n",
    "\n",
    "# Instantiate KNN Classifier \n",
    "knn = KNeighborsClassifier(n_neighbors=1)\n",
    "\n",
    "# Fit KNN Classifier to training data\n",
    "knn.fit(X_train,y_train)"
   ]
  },
  {
   "cell_type": "code",
   "execution_count": 86,
   "id": "fdfe1b20",
   "metadata": {},
   "outputs": [
    {
     "data": {
      "text/plain": [
       "array([1, 0, 1, 2, 1, 0, 0, 0, 0, 0, 0, 1, 0, 3, 0, 1, 1, 1, 0, 1, 0, 1,\n",
       "       0, 0, 0, 0, 0, 1, 0, 0, 0, 1, 1, 0, 2, 1, 1, 1, 1, 1, 0, 2, 0, 0,\n",
       "       0, 1, 0, 0, 0, 1, 1, 0, 0, 0, 0, 0, 0, 0, 1, 0, 0, 1, 1, 0, 2, 0,\n",
       "       0, 1, 0, 1, 0, 0, 0, 0, 0, 0, 1, 0, 1, 1, 0, 1, 1, 0, 0, 0, 0, 2,\n",
       "       0, 0, 1, 1, 1, 0, 0, 0, 0, 1, 0, 0, 0, 0, 1, 0, 0, 2, 0, 0, 0, 0,\n",
       "       0, 1, 0, 1, 0, 1, 0, 1, 1, 2, 0, 1, 0, 1, 2, 0, 1, 0, 0, 0, 0, 0,\n",
       "       1, 1, 1, 0, 0, 0, 1, 0, 0, 0, 0, 1, 1, 0, 1, 2, 0, 0, 0, 1, 0, 0,\n",
       "       0, 0, 1, 1, 0, 1, 1, 0, 0, 1, 2, 0, 1, 2, 1, 0, 0, 2, 0, 0, 1, 0,\n",
       "       0, 0, 1, 0, 0, 1, 1, 3, 0, 0, 0, 0, 1, 1, 0, 0, 0, 0, 0, 0, 0, 0,\n",
       "       0, 0, 1, 1, 0, 0, 1, 0, 2, 0, 0, 0, 0, 2, 0, 0, 1, 2, 0, 0, 0, 0,\n",
       "       0, 0, 1, 0, 0, 0, 0, 0, 0, 0, 0, 1, 0, 0, 1, 0, 1, 0, 0, 2, 2, 1,\n",
       "       2, 1, 1, 1, 0, 0, 0, 0, 1, 0, 1, 1, 0, 0, 1, 0, 0, 1, 1, 0, 0, 0,\n",
       "       0, 1, 0, 0, 0, 1, 0, 1, 0, 1, 1, 0, 0, 0, 0, 2, 1, 1, 0, 2, 0, 0,\n",
       "       1, 2, 0, 1, 1, 0, 0, 1, 0, 1, 1, 2, 0, 1, 1, 1, 0, 0, 1, 0, 0, 1,\n",
       "       0, 0, 0, 0, 1, 1, 0, 0, 0, 1, 1, 1, 1, 2, 0, 1, 1, 1, 0, 0, 0, 1,\n",
       "       1, 0, 0, 0, 0, 0, 1, 0, 0, 0, 0, 0, 0, 0, 1, 0, 2, 0, 0, 0, 1, 1,\n",
       "       0, 0, 0, 0, 1, 0, 0, 1, 0, 0, 1, 0, 1, 0, 0, 1, 0, 2, 0, 0, 0],\n",
       "      dtype=int64)"
      ]
     },
     "execution_count": 86,
     "metadata": {},
     "output_type": "execute_result"
    }
   ],
   "source": [
    "# predict the label of the test data \n",
    "y_pred = knn.predict(X_test)\n",
    "y_pred"
   ]
  },
  {
   "cell_type": "markdown",
   "id": "577e09d9",
   "metadata": {},
   "source": [
    "# EVALUATION"
   ]
  },
  {
   "cell_type": "code",
   "execution_count": 87,
   "id": "f796ea75",
   "metadata": {},
   "outputs": [],
   "source": [
    "from sklearn import metrics\n",
    "from sklearn.metrics import confusion_matrix\n",
    "from sklearn.metrics import classification_report"
   ]
  },
  {
   "cell_type": "code",
   "execution_count": 88,
   "id": "ed6a7833",
   "metadata": {},
   "outputs": [
    {
     "data": {
      "text/plain": [
       "0.739946380697051"
      ]
     },
     "execution_count": 88,
     "metadata": {},
     "output_type": "execute_result"
    }
   ],
   "source": [
    "score = metrics.accuracy_score(y_test,y_pred)\n",
    "score"
   ]
  },
  {
   "cell_type": "code",
   "execution_count": 89,
   "id": "aa1fc6b4",
   "metadata": {},
   "outputs": [
    {
     "name": "stdout",
     "output_type": "stream",
     "text": [
      "[[186  30   1   0   0]\n",
      " [ 40  77  12   0   0]\n",
      " [  0  12  11   0   0]\n",
      " [  0   1   0   2   0]\n",
      " [  0   0   1   0   0]]\n"
     ]
    }
   ],
   "source": [
    "print(confusion_matrix(y_test,y_pred))"
   ]
  },
  {
   "cell_type": "code",
   "execution_count": 90,
   "id": "dc6110e7",
   "metadata": {},
   "outputs": [
    {
     "name": "stdout",
     "output_type": "stream",
     "text": [
      "              precision    recall  f1-score   support\n",
      "\n",
      "           0       0.82      0.86      0.84       217\n",
      "           1       0.64      0.60      0.62       129\n",
      "           2       0.44      0.48      0.46        23\n",
      "           3       1.00      0.67      0.80         3\n",
      "           4       0.00      0.00      0.00         1\n",
      "\n",
      "    accuracy                           0.74       373\n",
      "   macro avg       0.58      0.52      0.54       373\n",
      "weighted avg       0.74      0.74      0.74       373\n",
      "\n"
     ]
    }
   ],
   "source": [
    "print(classification_report(y_test,y_pred))"
   ]
  },
  {
   "cell_type": "markdown",
   "id": "1a9575d5",
   "metadata": {},
   "source": [
    "# TUNING : OPTIMAL K (1)"
   ]
  },
  {
   "cell_type": "code",
   "execution_count": 91,
   "id": "8ee0054e",
   "metadata": {},
   "outputs": [],
   "source": [
    "import matplotlib.pyplot as plt\n",
    "\n",
    "# to hide unnecessary warning\n",
    "import warnings\n",
    "warnings.filterwarnings('ignore')\n",
    "\n",
    "# line required for inline charts/plots\n",
    "%matplotlib inline\n",
    "\n",
    "# empty variable for storing the KNN metrics\n",
    "scores = []"
   ]
  },
  {
   "cell_type": "code",
   "execution_count": 92,
   "id": "d00b3d1c",
   "metadata": {},
   "outputs": [],
   "source": [
    "# we try diff values of k (from k=1 up to k=20)\n",
    "lrange = np.arange(1,20)\n",
    "\n",
    "# loop the KNN process\n",
    "for k in lrange:\n",
    "    # input the k-value and 'distance' measure\n",
    "    knn = KNeighborsClassifier(n_neighbors=k, weights='distance',algorithm='auto')\n",
    "    # input the train data to train KNN\n",
    "    knn.fit(X_train,y_train)\n",
    "    # see KNN prediction by inputting the test data\n",
    "    y_pred = knn.predict(X_test)\n",
    "    # append the performance metric (accuracy)\n",
    "    scores.append(metrics.accuracy_score(y_test,y_pred))\n",
    "    optimal_k = lrange[scores.index(max(scores))]"
   ]
  },
  {
   "cell_type": "code",
   "execution_count": 93,
   "id": "a7dd7955",
   "metadata": {},
   "outputs": [
    {
     "name": "stdout",
     "output_type": "stream",
     "text": [
      "Optimal k is 12\n",
      "Optimal score is 0.834\n"
     ]
    }
   ],
   "source": [
    "print(\"Optimal k is %d\" % optimal_k)\n",
    "print(\"Optimal score is %.3f\" % max(scores))"
   ]
  },
  {
   "cell_type": "code",
   "execution_count": 94,
   "id": "b6b20f9d",
   "metadata": {},
   "outputs": [
    {
     "data": {
      "image/png": "[encoded data removed]",
      "text/plain": [
       "<Figure size 1080x360 with 1 Axes>"
      ]
     },
     "metadata": {
      "needs_background": "light"
     },
     "output_type": "display_data"
    }
   ],
   "source": [
    "# plot accuracy scores vs k values\n",
    "plt.figure(2,figsize=(15,5))\n",
    "plt.plot(lrange,scores,ls='dashed')\n",
    "plt.xlabel('Value of k for KNN')\n",
    "plt.ylabel('Accuracy Score')\n",
    "plt.title('Accuracy Scores for Values of k for KNN')\n",
    "plt.show()"
   ]
  },
  {
   "cell_type": "code",
   "execution_count": 95,
   "id": "2e04e6d0",
   "metadata": {},
   "outputs": [
    {
     "data": {
      "text/plain": [
       "0.8203753351206434"
      ]
     },
     "execution_count": 95,
     "metadata": {},
     "output_type": "execute_result"
    }
   ],
   "source": [
    "knn = KNeighborsClassifier(n_neighbors=12)\n",
    "knn.fit(X_train,y_train)\n",
    "metrics.accuracy_score(y_test,y_pred)"
   ]
  },
  {
   "cell_type": "code",
   "execution_count": 96,
   "id": "3cdd3e4d",
   "metadata": {},
   "outputs": [
    {
     "name": "stdout",
     "output_type": "stream",
     "text": [
      "[[205  12   0   0   0]\n",
      " [ 35  94   0   0   0]\n",
      " [  0  16   7   0   0]\n",
      " [  0   1   2   0   0]\n",
      " [  0   1   0   0   0]]\n"
     ]
    }
   ],
   "source": [
    "print(confusion_matrix(y_test,y_pred))"
   ]
  },
  {
   "cell_type": "code",
   "execution_count": 97,
   "id": "0f06e29a",
   "metadata": {},
   "outputs": [
    {
     "name": "stdout",
     "output_type": "stream",
     "text": [
      "              precision    recall  f1-score   support\n",
      "\n",
      "           0       0.85      0.94      0.90       217\n",
      "           1       0.76      0.73      0.74       129\n",
      "           2       0.78      0.30      0.44        23\n",
      "           3       0.00      0.00      0.00         3\n",
      "           4       0.00      0.00      0.00         1\n",
      "\n",
      "    accuracy                           0.82       373\n",
      "   macro avg       0.48      0.40      0.42       373\n",
      "weighted avg       0.81      0.82      0.81       373\n",
      "\n"
     ]
    }
   ],
   "source": [
    "print(classification_report(y_test,y_pred))"
   ]
  },
  {
   "cell_type": "markdown",
   "id": "8cc54873",
   "metadata": {},
   "source": [
    "# TUNING : CV + OPTIMAL K (1)"
   ]
  },
  {
   "cell_type": "code",
   "execution_count": 98,
   "id": "1044fd70",
   "metadata": {},
   "outputs": [],
   "source": [
    "from sklearn.model_selection import cross_val_score"
   ]
  },
  {
   "cell_type": "code",
   "execution_count": 99,
   "id": "fbcb4fca",
   "metadata": {},
   "outputs": [],
   "source": [
    "# empty variable foor storing the KNN metrics\n",
    "scores = []"
   ]
  },
  {
   "cell_type": "code",
   "execution_count": 100,
   "id": "5e2b00a7",
   "metadata": {
    "scrolled": true
   },
   "outputs": [
    {
     "name": "stdout",
     "output_type": "stream",
     "text": [
      "The optimal number of neighbors is 15\n",
      "The optimal score is 0.803\n",
      "[0.79310345 0.82758621 0.79310345 0.7816092  0.77011494 0.85057471\n",
      " 0.74712644 0.77011494 0.84883721 0.8255814 ]\n"
     ]
    },
    {
     "data": {
      "image/png": "[encoded data removed]",
      "text/plain": [
       "<Figure size 1080x360 with 1 Axes>"
      ]
     },
     "metadata": {
      "needs_background": "light"
     },
     "output_type": "display_data"
    }
   ],
   "source": [
    "# We try different values of k for the KNN (from k=1 up to k=26)\n",
    "lrange=np.arange(1,20)\n",
    "\n",
    "# loop the KNN process\n",
    "for k in lrange:\n",
    "    # input the k value and 'distance' measure\n",
    "    knn=KNeighborsClassifier(n_neighbors=k, weights='distance', algorithm='auto')\n",
    "    # get score for the 10 fold cross validation\n",
    "    score = cross_val_score(knn, X_train, y_train, cv=10, scoring='accuracy')\n",
    "    scores.append(score.mean())\n",
    "\n",
    "optimal_k = lrange[scores.index(max(scores))]\n",
    "          \n",
    "print(\"The optimal number of neighbors is %d\" % optimal_k)\n",
    "print(\"The optimal score is %.3f\" % max(scores))\n",
    "\n",
    "plt.figure(2,figsize=(15,5))\n",
    "print(score)    \n",
    "# plot the results\n",
    "plt.plot(lrange, scores,ls='dashed')\n",
    "plt.xlabel('Value of k for KNN')\n",
    "plt.ylabel('Accuracy Score')\n",
    "plt.title('Accuracy Scores for Values of k of k-Nearest-Neighbors')\n",
    "plt.show()"
   ]
  },
  {
   "cell_type": "code",
   "execution_count": 101,
   "id": "9e3f629d",
   "metadata": {},
   "outputs": [
    {
     "name": "stdout",
     "output_type": "stream",
     "text": [
      "[0.79310345 0.82758621 0.79310345 0.7816092  0.77011494 0.85057471\n",
      " 0.74712644 0.77011494 0.84883721 0.8255814 ]\n"
     ]
    },
    {
     "data": {
      "image/png": "[encoded data removed]",
      "text/plain": [
       "<Figure size 1080x360 with 1 Axes>"
      ]
     },
     "metadata": {
      "needs_background": "light"
     },
     "output_type": "display_data"
    }
   ],
   "source": [
    "plt.figure(2,figsize=(15,5))\n",
    "print(score)    \n",
    "# plot the results\n",
    "plt.plot(lrange, scores,ls='dashed')\n",
    "plt.xlabel('Value of k for KNN')\n",
    "plt.ylabel('Accuracy Score')\n",
    "plt.title('Accuracy Scores for Values of k of k-Nearest-Neighbors')\n",
    "plt.show()"
   ]
  },
  {
   "cell_type": "code",
   "execution_count": 102,
   "id": "d32bfd54",
   "metadata": {},
   "outputs": [
    {
     "data": {
      "text/plain": [
       "0.8203753351206434"
      ]
     },
     "execution_count": 102,
     "metadata": {},
     "output_type": "execute_result"
    }
   ],
   "source": [
    "knn = KNeighborsClassifier(n_neighbors=12)\n",
    "knn.fit(X_train,y_train)\n",
    "metrics.accuracy_score(y_test,y_pred)"
   ]
  },
  {
   "cell_type": "code",
   "execution_count": 103,
   "id": "4f6b742e",
   "metadata": {},
   "outputs": [
    {
     "name": "stdout",
     "output_type": "stream",
     "text": [
      "[[205  12   0   0   0]\n",
      " [ 35  94   0   0   0]\n",
      " [  0  16   7   0   0]\n",
      " [  0   1   2   0   0]\n",
      " [  0   1   0   0   0]]\n"
     ]
    }
   ],
   "source": [
    "print(confusion_matrix(y_test,y_pred))"
   ]
  },
  {
   "cell_type": "code",
   "execution_count": 104,
   "id": "fd444384",
   "metadata": {
    "scrolled": true
   },
   "outputs": [
    {
     "name": "stdout",
     "output_type": "stream",
     "text": [
      "              precision    recall  f1-score   support\n",
      "\n",
      "           0       0.85      0.94      0.90       217\n",
      "           1       0.76      0.73      0.74       129\n",
      "           2       0.78      0.30      0.44        23\n",
      "           3       0.00      0.00      0.00         3\n",
      "           4       0.00      0.00      0.00         1\n",
      "\n",
      "    accuracy                           0.82       373\n",
      "   macro avg       0.48      0.40      0.42       373\n",
      "weighted avg       0.81      0.82      0.81       373\n",
      "\n"
     ]
    }
   ],
   "source": [
    "print(classification_report(y_test,y_pred))"
   ]
  },
  {
   "cell_type": "markdown",
   "id": "d2ad7e4c",
   "metadata": {},
   "source": [
    "# TUNING : OPTIMAL K (2)"
   ]
  },
  {
   "cell_type": "code",
   "execution_count": 105,
   "id": "7fd7f6ac",
   "metadata": {},
   "outputs": [],
   "source": [
    "neighbors = np.arange(1,20)\n",
    "train_accuracy = np.empty(len(neighbors))\n",
    "test_accuracy = np.empty(len(neighbors))"
   ]
  },
  {
   "cell_type": "code",
   "execution_count": 106,
   "id": "87aa2222",
   "metadata": {},
   "outputs": [
    {
     "data": {
      "image/png": "[encoded data removed]",
      "text/plain": [
       "<Figure size 432x288 with 1 Axes>"
      ]
     },
     "metadata": {
      "needs_background": "light"
     },
     "output_type": "display_data"
    }
   ],
   "source": [
    "for i, k in enumerate(neighbors):\n",
    "    knn = KNeighborsClassifier(n_neighbors=k)\n",
    "    knn.fit(X_train,y_train)\n",
    "    train_accuracy[i] = knn.score(X_train,y_train)\n",
    "    test_accuracy[i] = knn.score(X_test,y_test)\n",
    "    \n",
    "plt.title('k-NN: Varying Number of Neighbors')\n",
    "plt.plot(neighbors, test_accuracy, label = 'Testing Accuracy')\n",
    "plt.plot(neighbors, train_accuracy, label = 'Training Accuracy')\n",
    "plt.legend()\n",
    "plt.xlabel('Number of Neighbors')\n",
    "plt.ylabel('Accuracy')\n",
    "plt.show()"
   ]
  },
  {
   "cell_type": "markdown",
   "id": "1eac9f8a",
   "metadata": {},
   "source": [
    "# TUNING : CV + OPTIMAL K (2)"
   ]
  },
  {
   "cell_type": "code",
   "execution_count": 107,
   "id": "e32fd8c5",
   "metadata": {},
   "outputs": [
    {
     "data": {
      "text/plain": [
       "{'n_neighbors': 15}"
      ]
     },
     "execution_count": 107,
     "metadata": {},
     "output_type": "execute_result"
    }
   ],
   "source": [
    "from sklearn.model_selection import GridSearchCV\n",
    "param_grid = {'n_neighbors':np.arange(1,20)}\n",
    "knn = KNeighborsClassifier()\n",
    "knn_cv = GridSearchCV(knn,param_grid,cv=10)\n",
    "knn_cv.fit(X_train,y_train)\n",
    "knn_cv.best_params_"
   ]
  },
  {
   "cell_type": "code",
   "execution_count": 108,
   "id": "1b3cbfcf",
   "metadata": {},
   "outputs": [
    {
     "data": {
      "text/plain": [
       "0.8203753351206434"
      ]
     },
     "execution_count": 108,
     "metadata": {},
     "output_type": "execute_result"
    }
   ],
   "source": [
    "knn = KNeighborsClassifier(n_neighbors=10)\n",
    "knn_cv = GridSearchCV(knn,param_grid,cv=10)\n",
    "knn_cv.fit(X_train,y_train)\n",
    "\n",
    "metrics.accuracy_score(y_test,y_pred)"
   ]
  },
  {
   "cell_type": "code",
   "execution_count": 109,
   "id": "aae21f62",
   "metadata": {},
   "outputs": [
    {
     "name": "stdout",
     "output_type": "stream",
     "text": [
      "[[205  12   0   0   0]\n",
      " [ 35  94   0   0   0]\n",
      " [  0  16   7   0   0]\n",
      " [  0   1   2   0   0]\n",
      " [  0   1   0   0   0]]\n"
     ]
    }
   ],
   "source": [
    "print(confusion_matrix(y_test,y_pred))"
   ]
  },
  {
   "cell_type": "code",
   "execution_count": 110,
   "id": "997da13c",
   "metadata": {},
   "outputs": [
    {
     "name": "stdout",
     "output_type": "stream",
     "text": [
      "              precision    recall  f1-score   support\n",
      "\n",
      "           0       0.85      0.94      0.90       217\n",
      "           1       0.76      0.73      0.74       129\n",
      "           2       0.78      0.30      0.44        23\n",
      "           3       0.00      0.00      0.00         3\n",
      "           4       0.00      0.00      0.00         1\n",
      "\n",
      "    accuracy                           0.82       373\n",
      "   macro avg       0.48      0.40      0.42       373\n",
      "weighted avg       0.81      0.82      0.81       373\n",
      "\n"
     ]
    }
   ],
   "source": [
    "print(classification_report(y_test,y_pred))"
   ]
  }
 ],
 "metadata": {
  "kernelspec": {
   "display_name": "Python 3",
   "language": "python",
   "name": "python3"
  },
  "language_info": {
   "codemirror_mode": {
    "name": "ipython",
    "version": 3
   },
   "file_extension": ".py",
   "mimetype": "text/x-python",
   "name": "python",
   "nbconvert_exporter": "python",
   "pygments_lexer": "ipython3",
   "version": "3.8.8"
  }
 },
 "nbformat": 4,
 "nbformat_minor": 5
}
