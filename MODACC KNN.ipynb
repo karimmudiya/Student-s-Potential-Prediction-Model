{
 "cells": [
  {
   "cell_type": "markdown",
   "id": "1f570fdc",
   "metadata": {},
   "source": [
    "# IMPORT PACKAGES & LOAD DATA"
   ]
  },
  {
   "cell_type": "code",
   "execution_count": 1,
   "id": "a93005c6",
   "metadata": {},
   "outputs": [],
   "source": [
    "import numpy as np\n",
    "import pandas as pd"
   ]
  },
  {
   "cell_type": "code",
   "execution_count": 2,
   "id": "5b58c4e4",
   "metadata": {},
   "outputs": [],
   "source": [
    "modacc = pd.read_csv(\"modacc.csv\")"
   ]
  },
  {
   "cell_type": "markdown",
   "id": "146df2fb",
   "metadata": {},
   "source": [
    "# DATA UNDERSTANDING"
   ]
  },
  {
   "cell_type": "code",
   "execution_count": 3,
   "id": "c874d653",
   "metadata": {},
   "outputs": [
    {
     "data": {
      "text/html": [
       "<div>\n",
       "<style scoped>\n",
       "    .dataframe tbody tr th:only-of-type {\n",
       "        vertical-align: middle;\n",
       "    }\n",
       "\n",
       "    .dataframe tbody tr th {\n",
       "        vertical-align: top;\n",
       "    }\n",
       "\n",
       "    .dataframe thead th {\n",
       "        text-align: right;\n",
       "    }\n",
       "</style>\n",
       "<table border=\"1\" class=\"dataframe\">\n",
       "  <thead>\n",
       "    <tr style=\"text-align: right;\">\n",
       "      <th></th>\n",
       "      <th>STUDENT ID</th>\n",
       "      <th>LEARNING STYLE</th>\n",
       "      <th>RACE</th>\n",
       "      <th>GENDER</th>\n",
       "      <th>RELIGION</th>\n",
       "      <th>STATE</th>\n",
       "      <th>REGION</th>\n",
       "      <th>INCOME</th>\n",
       "      <th>DEPENDENTS</th>\n",
       "      <th>SCHOOL</th>\n",
       "      <th>SPM ADDMATH</th>\n",
       "      <th>SEM1 CGPA</th>\n",
       "      <th>SEM1 MATH</th>\n",
       "      <th>SEM1 BUSINESS</th>\n",
       "      <th>SEM1 ECONOMY</th>\n",
       "      <th>SEM1 ACCOUNTING</th>\n",
       "      <th>SEM2 CGPA</th>\n",
       "    </tr>\n",
       "  </thead>\n",
       "  <tbody>\n",
       "    <tr>\n",
       "      <th>0</th>\n",
       "      <td>2019/2020|MA1918125524</td>\n",
       "      <td>0</td>\n",
       "      <td>3</td>\n",
       "      <td>0</td>\n",
       "      <td>2</td>\n",
       "      <td>10</td>\n",
       "      <td>1</td>\n",
       "      <td>6</td>\n",
       "      <td>5</td>\n",
       "      <td>0</td>\n",
       "      <td>5</td>\n",
       "      <td>0</td>\n",
       "      <td>0</td>\n",
       "      <td>2</td>\n",
       "      <td>3</td>\n",
       "      <td>0</td>\n",
       "      <td>0</td>\n",
       "    </tr>\n",
       "    <tr>\n",
       "      <th>1</th>\n",
       "      <td>2019/2020|MA1918125743</td>\n",
       "      <td>0</td>\n",
       "      <td>3</td>\n",
       "      <td>0</td>\n",
       "      <td>2</td>\n",
       "      <td>1</td>\n",
       "      <td>1</td>\n",
       "      <td>4</td>\n",
       "      <td>5</td>\n",
       "      <td>0</td>\n",
       "      <td>5</td>\n",
       "      <td>0</td>\n",
       "      <td>0</td>\n",
       "      <td>1</td>\n",
       "      <td>0</td>\n",
       "      <td>0</td>\n",
       "      <td>0</td>\n",
       "    </tr>\n",
       "    <tr>\n",
       "      <th>2</th>\n",
       "      <td>2019/2020|MA1918125760</td>\n",
       "      <td>0</td>\n",
       "      <td>3</td>\n",
       "      <td>0</td>\n",
       "      <td>2</td>\n",
       "      <td>1</td>\n",
       "      <td>2</td>\n",
       "      <td>5</td>\n",
       "      <td>5</td>\n",
       "      <td>0</td>\n",
       "      <td>0</td>\n",
       "      <td>0</td>\n",
       "      <td>0</td>\n",
       "      <td>2</td>\n",
       "      <td>4</td>\n",
       "      <td>0</td>\n",
       "      <td>0</td>\n",
       "    </tr>\n",
       "    <tr>\n",
       "      <th>3</th>\n",
       "      <td>2019/2020|MA1918125556</td>\n",
       "      <td>0</td>\n",
       "      <td>3</td>\n",
       "      <td>0</td>\n",
       "      <td>2</td>\n",
       "      <td>10</td>\n",
       "      <td>1</td>\n",
       "      <td>5</td>\n",
       "      <td>5</td>\n",
       "      <td>0</td>\n",
       "      <td>5</td>\n",
       "      <td>0</td>\n",
       "      <td>0</td>\n",
       "      <td>3</td>\n",
       "      <td>3</td>\n",
       "      <td>0</td>\n",
       "      <td>0</td>\n",
       "    </tr>\n",
       "    <tr>\n",
       "      <th>4</th>\n",
       "      <td>2019/2020|MA1918125912</td>\n",
       "      <td>0</td>\n",
       "      <td>3</td>\n",
       "      <td>0</td>\n",
       "      <td>2</td>\n",
       "      <td>1</td>\n",
       "      <td>1</td>\n",
       "      <td>6</td>\n",
       "      <td>3</td>\n",
       "      <td>1</td>\n",
       "      <td>6</td>\n",
       "      <td>1</td>\n",
       "      <td>0</td>\n",
       "      <td>1</td>\n",
       "      <td>3</td>\n",
       "      <td>3</td>\n",
       "      <td>0</td>\n",
       "    </tr>\n",
       "  </tbody>\n",
       "</table>\n",
       "</div>"
      ],
      "text/plain": [
       "               STUDENT ID  LEARNING STYLE  RACE  GENDER  RELIGION  STATE  \\\n",
       "0  2019/2020|MA1918125524               0     3       0         2     10   \n",
       "1  2019/2020|MA1918125743               0     3       0         2      1   \n",
       "2  2019/2020|MA1918125760               0     3       0         2      1   \n",
       "3  2019/2020|MA1918125556               0     3       0         2     10   \n",
       "4  2019/2020|MA1918125912               0     3       0         2      1   \n",
       "\n",
       "   REGION  INCOME  DEPENDENTS  SCHOOL  SPM ADDMATH  SEM1 CGPA  SEM1 MATH  \\\n",
       "0       1       6           5       0            5          0          0   \n",
       "1       1       4           5       0            5          0          0   \n",
       "2       2       5           5       0            0          0          0   \n",
       "3       1       5           5       0            5          0          0   \n",
       "4       1       6           3       1            6          1          0   \n",
       "\n",
       "   SEM1 BUSINESS  SEM1 ECONOMY  SEM1 ACCOUNTING  SEM2 CGPA  \n",
       "0              2             3                0          0  \n",
       "1              1             0                0          0  \n",
       "2              2             4                0          0  \n",
       "3              3             3                0          0  \n",
       "4              1             3                3          0  "
      ]
     },
     "execution_count": 3,
     "metadata": {},
     "output_type": "execute_result"
    }
   ],
   "source": [
    "modacc.head()"
   ]
  },
  {
   "cell_type": "code",
   "execution_count": 4,
   "id": "f63b3e88",
   "metadata": {},
   "outputs": [
    {
     "name": "stdout",
     "output_type": "stream",
     "text": [
      "<class 'pandas.core.frame.DataFrame'>\n",
      "RangeIndex: 321 entries, 0 to 320\n",
      "Data columns (total 17 columns):\n",
      " #   Column           Non-Null Count  Dtype \n",
      "---  ------           --------------  ----- \n",
      " 0   STUDENT ID       321 non-null    object\n",
      " 1   LEARNING STYLE   321 non-null    int64 \n",
      " 2   RACE             321 non-null    int64 \n",
      " 3   GENDER           321 non-null    int64 \n",
      " 4   RELIGION         321 non-null    int64 \n",
      " 5   STATE            321 non-null    int64 \n",
      " 6   REGION           321 non-null    int64 \n",
      " 7   INCOME           321 non-null    int64 \n",
      " 8   DEPENDENTS       321 non-null    int64 \n",
      " 9   SCHOOL           321 non-null    int64 \n",
      " 10  SPM ADDMATH      321 non-null    int64 \n",
      " 11  SEM1 CGPA        321 non-null    int64 \n",
      " 12  SEM1 MATH        321 non-null    int64 \n",
      " 13  SEM1 BUSINESS    321 non-null    int64 \n",
      " 14  SEM1 ECONOMY     321 non-null    int64 \n",
      " 15  SEM1 ACCOUNTING  321 non-null    int64 \n",
      " 16  SEM2 CGPA        321 non-null    int64 \n",
      "dtypes: int64(16), object(1)\n",
      "memory usage: 42.8+ KB\n"
     ]
    }
   ],
   "source": [
    "modacc.info()"
   ]
  },
  {
   "cell_type": "code",
   "execution_count": 5,
   "id": "5190382a",
   "metadata": {},
   "outputs": [
    {
     "data": {
      "text/plain": [
       "STUDENT ID         0\n",
       "LEARNING STYLE     0\n",
       "RACE               0\n",
       "GENDER             0\n",
       "RELIGION           0\n",
       "STATE              0\n",
       "REGION             0\n",
       "INCOME             0\n",
       "DEPENDENTS         0\n",
       "SCHOOL             0\n",
       "SPM ADDMATH        0\n",
       "SEM1 CGPA          0\n",
       "SEM1 MATH          0\n",
       "SEM1 BUSINESS      0\n",
       "SEM1 ECONOMY       0\n",
       "SEM1 ACCOUNTING    0\n",
       "SEM2 CGPA          0\n",
       "dtype: int64"
      ]
     },
     "execution_count": 5,
     "metadata": {},
     "output_type": "execute_result"
    }
   ],
   "source": [
    "modacc.isnull().sum()"
   ]
  },
  {
   "cell_type": "markdown",
   "id": "ebcc8e0a",
   "metadata": {},
   "source": [
    "# DATA PREPARATION "
   ]
  },
  {
   "cell_type": "code",
   "execution_count": 6,
   "id": "4430aa6b",
   "metadata": {},
   "outputs": [],
   "source": [
    "### DROP 'STUDENT ID' COLUMN"
   ]
  },
  {
   "cell_type": "code",
   "execution_count": 8,
   "id": "f479ace3",
   "metadata": {},
   "outputs": [],
   "source": [
    "modacc = pd.DataFrame(modacc)"
   ]
  },
  {
   "cell_type": "code",
   "execution_count": 9,
   "id": "f84246f9",
   "metadata": {},
   "outputs": [
    {
     "name": "stdout",
     "output_type": "stream",
     "text": [
      "<class 'pandas.core.frame.DataFrame'>\n",
      "RangeIndex: 321 entries, 0 to 320\n",
      "Data columns (total 17 columns):\n",
      " #   Column           Non-Null Count  Dtype \n",
      "---  ------           --------------  ----- \n",
      " 0   STUDENT ID       321 non-null    object\n",
      " 1   LEARNING STYLE   321 non-null    int64 \n",
      " 2   RACE             321 non-null    int64 \n",
      " 3   GENDER           321 non-null    int64 \n",
      " 4   RELIGION         321 non-null    int64 \n",
      " 5   STATE            321 non-null    int64 \n",
      " 6   REGION           321 non-null    int64 \n",
      " 7   INCOME           321 non-null    int64 \n",
      " 8   DEPENDENTS       321 non-null    int64 \n",
      " 9   SCHOOL           321 non-null    int64 \n",
      " 10  SPM ADDMATH      321 non-null    int64 \n",
      " 11  SEM1 CGPA        321 non-null    int64 \n",
      " 12  SEM1 MATH        321 non-null    int64 \n",
      " 13  SEM1 BUSINESS    321 non-null    int64 \n",
      " 14  SEM1 ECONOMY     321 non-null    int64 \n",
      " 15  SEM1 ACCOUNTING  321 non-null    int64 \n",
      " 16  SEM2 CGPA        321 non-null    int64 \n",
      "dtypes: int64(16), object(1)\n",
      "memory usage: 42.8+ KB\n"
     ]
    }
   ],
   "source": [
    "modacc.info()"
   ]
  },
  {
   "cell_type": "code",
   "execution_count": 10,
   "id": "c40c9346",
   "metadata": {},
   "outputs": [],
   "source": [
    "modacc = modacc.drop([\"STUDENT ID\"],axis=1)"
   ]
  },
  {
   "cell_type": "code",
   "execution_count": 11,
   "id": "139b4329",
   "metadata": {},
   "outputs": [
    {
     "data": {
      "text/html": [
       "<div>\n",
       "<style scoped>\n",
       "    .dataframe tbody tr th:only-of-type {\n",
       "        vertical-align: middle;\n",
       "    }\n",
       "\n",
       "    .dataframe tbody tr th {\n",
       "        vertical-align: top;\n",
       "    }\n",
       "\n",
       "    .dataframe thead th {\n",
       "        text-align: right;\n",
       "    }\n",
       "</style>\n",
       "<table border=\"1\" class=\"dataframe\">\n",
       "  <thead>\n",
       "    <tr style=\"text-align: right;\">\n",
       "      <th></th>\n",
       "      <th>LEARNING STYLE</th>\n",
       "      <th>RACE</th>\n",
       "      <th>GENDER</th>\n",
       "      <th>RELIGION</th>\n",
       "      <th>STATE</th>\n",
       "      <th>REGION</th>\n",
       "      <th>INCOME</th>\n",
       "      <th>DEPENDENTS</th>\n",
       "      <th>SCHOOL</th>\n",
       "      <th>SPM ADDMATH</th>\n",
       "      <th>SEM1 CGPA</th>\n",
       "      <th>SEM1 MATH</th>\n",
       "      <th>SEM1 BUSINESS</th>\n",
       "      <th>SEM1 ECONOMY</th>\n",
       "      <th>SEM1 ACCOUNTING</th>\n",
       "      <th>SEM2 CGPA</th>\n",
       "    </tr>\n",
       "  </thead>\n",
       "  <tbody>\n",
       "    <tr>\n",
       "      <th>0</th>\n",
       "      <td>0</td>\n",
       "      <td>3</td>\n",
       "      <td>0</td>\n",
       "      <td>2</td>\n",
       "      <td>10</td>\n",
       "      <td>1</td>\n",
       "      <td>6</td>\n",
       "      <td>5</td>\n",
       "      <td>0</td>\n",
       "      <td>5</td>\n",
       "      <td>0</td>\n",
       "      <td>0</td>\n",
       "      <td>2</td>\n",
       "      <td>3</td>\n",
       "      <td>0</td>\n",
       "      <td>0</td>\n",
       "    </tr>\n",
       "    <tr>\n",
       "      <th>1</th>\n",
       "      <td>0</td>\n",
       "      <td>3</td>\n",
       "      <td>0</td>\n",
       "      <td>2</td>\n",
       "      <td>1</td>\n",
       "      <td>1</td>\n",
       "      <td>4</td>\n",
       "      <td>5</td>\n",
       "      <td>0</td>\n",
       "      <td>5</td>\n",
       "      <td>0</td>\n",
       "      <td>0</td>\n",
       "      <td>1</td>\n",
       "      <td>0</td>\n",
       "      <td>0</td>\n",
       "      <td>0</td>\n",
       "    </tr>\n",
       "    <tr>\n",
       "      <th>2</th>\n",
       "      <td>0</td>\n",
       "      <td>3</td>\n",
       "      <td>0</td>\n",
       "      <td>2</td>\n",
       "      <td>1</td>\n",
       "      <td>2</td>\n",
       "      <td>5</td>\n",
       "      <td>5</td>\n",
       "      <td>0</td>\n",
       "      <td>0</td>\n",
       "      <td>0</td>\n",
       "      <td>0</td>\n",
       "      <td>2</td>\n",
       "      <td>4</td>\n",
       "      <td>0</td>\n",
       "      <td>0</td>\n",
       "    </tr>\n",
       "    <tr>\n",
       "      <th>3</th>\n",
       "      <td>0</td>\n",
       "      <td>3</td>\n",
       "      <td>0</td>\n",
       "      <td>2</td>\n",
       "      <td>10</td>\n",
       "      <td>1</td>\n",
       "      <td>5</td>\n",
       "      <td>5</td>\n",
       "      <td>0</td>\n",
       "      <td>5</td>\n",
       "      <td>0</td>\n",
       "      <td>0</td>\n",
       "      <td>3</td>\n",
       "      <td>3</td>\n",
       "      <td>0</td>\n",
       "      <td>0</td>\n",
       "    </tr>\n",
       "    <tr>\n",
       "      <th>4</th>\n",
       "      <td>0</td>\n",
       "      <td>3</td>\n",
       "      <td>0</td>\n",
       "      <td>2</td>\n",
       "      <td>1</td>\n",
       "      <td>1</td>\n",
       "      <td>6</td>\n",
       "      <td>3</td>\n",
       "      <td>1</td>\n",
       "      <td>6</td>\n",
       "      <td>1</td>\n",
       "      <td>0</td>\n",
       "      <td>1</td>\n",
       "      <td>3</td>\n",
       "      <td>3</td>\n",
       "      <td>0</td>\n",
       "    </tr>\n",
       "  </tbody>\n",
       "</table>\n",
       "</div>"
      ],
      "text/plain": [
       "   LEARNING STYLE  RACE  GENDER  RELIGION  STATE  REGION  INCOME  DEPENDENTS  \\\n",
       "0               0     3       0         2     10       1       6           5   \n",
       "1               0     3       0         2      1       1       4           5   \n",
       "2               0     3       0         2      1       2       5           5   \n",
       "3               0     3       0         2     10       1       5           5   \n",
       "4               0     3       0         2      1       1       6           3   \n",
       "\n",
       "   SCHOOL  SPM ADDMATH  SEM1 CGPA  SEM1 MATH  SEM1 BUSINESS  SEM1 ECONOMY  \\\n",
       "0       0            5          0          0              2             3   \n",
       "1       0            5          0          0              1             0   \n",
       "2       0            0          0          0              2             4   \n",
       "3       0            5          0          0              3             3   \n",
       "4       1            6          1          0              1             3   \n",
       "\n",
       "   SEM1 ACCOUNTING  SEM2 CGPA  \n",
       "0                0          0  \n",
       "1                0          0  \n",
       "2                0          0  \n",
       "3                0          0  \n",
       "4                3          0  "
      ]
     },
     "execution_count": 11,
     "metadata": {},
     "output_type": "execute_result"
    }
   ],
   "source": [
    "modacc.head()"
   ]
  },
  {
   "cell_type": "markdown",
   "id": "1bd65b81",
   "metadata": {},
   "source": [
    "# MODELLING : TRAIN_TEST_SPLIT"
   ]
  },
  {
   "cell_type": "code",
   "execution_count": 12,
   "id": "4a8e3554",
   "metadata": {},
   "outputs": [],
   "source": [
    "## CREATE TRAIN TEST SPLIT TO AVOID OVERFITTING\n",
    "from sklearn.model_selection import train_test_split\n",
    "X_train,X_test,y_train,y_test = train_test_split(modacc.drop(labels=['SEM2 CGPA'],axis=1),\n",
    "                                                 modacc['SEM2 CGPA'],test_size=0.3,random_state=0)"
   ]
  },
  {
   "cell_type": "code",
   "execution_count": 13,
   "id": "b77e673c",
   "metadata": {},
   "outputs": [
    {
     "name": "stdout",
     "output_type": "stream",
     "text": [
      "<class 'pandas.core.frame.DataFrame'>\n",
      "Int64Index: 224 entries, 262 to 172\n",
      "Data columns (total 15 columns):\n",
      " #   Column           Non-Null Count  Dtype\n",
      "---  ------           --------------  -----\n",
      " 0   LEARNING STYLE   224 non-null    int64\n",
      " 1   RACE             224 non-null    int64\n",
      " 2   GENDER           224 non-null    int64\n",
      " 3   RELIGION         224 non-null    int64\n",
      " 4   STATE            224 non-null    int64\n",
      " 5   REGION           224 non-null    int64\n",
      " 6   INCOME           224 non-null    int64\n",
      " 7   DEPENDENTS       224 non-null    int64\n",
      " 8   SCHOOL           224 non-null    int64\n",
      " 9   SPM ADDMATH      224 non-null    int64\n",
      " 10  SEM1 CGPA        224 non-null    int64\n",
      " 11  SEM1 MATH        224 non-null    int64\n",
      " 12  SEM1 BUSINESS    224 non-null    int64\n",
      " 13  SEM1 ECONOMY     224 non-null    int64\n",
      " 14  SEM1 ACCOUNTING  224 non-null    int64\n",
      "dtypes: int64(15)\n",
      "memory usage: 28.0 KB\n"
     ]
    }
   ],
   "source": [
    "X_train.info()"
   ]
  },
  {
   "cell_type": "code",
   "execution_count": 14,
   "id": "2455b56a",
   "metadata": {},
   "outputs": [
    {
     "name": "stdout",
     "output_type": "stream",
     "text": [
      "<class 'pandas.core.frame.DataFrame'>\n",
      "Int64Index: 97 entries, 181 to 213\n",
      "Data columns (total 15 columns):\n",
      " #   Column           Non-Null Count  Dtype\n",
      "---  ------           --------------  -----\n",
      " 0   LEARNING STYLE   97 non-null     int64\n",
      " 1   RACE             97 non-null     int64\n",
      " 2   GENDER           97 non-null     int64\n",
      " 3   RELIGION         97 non-null     int64\n",
      " 4   STATE            97 non-null     int64\n",
      " 5   REGION           97 non-null     int64\n",
      " 6   INCOME           97 non-null     int64\n",
      " 7   DEPENDENTS       97 non-null     int64\n",
      " 8   SCHOOL           97 non-null     int64\n",
      " 9   SPM ADDMATH      97 non-null     int64\n",
      " 10  SEM1 CGPA        97 non-null     int64\n",
      " 11  SEM1 MATH        97 non-null     int64\n",
      " 12  SEM1 BUSINESS    97 non-null     int64\n",
      " 13  SEM1 ECONOMY     97 non-null     int64\n",
      " 14  SEM1 ACCOUNTING  97 non-null     int64\n",
      "dtypes: int64(15)\n",
      "memory usage: 12.1 KB\n"
     ]
    }
   ],
   "source": [
    "X_test.info()"
   ]
  },
  {
   "cell_type": "code",
   "execution_count": 15,
   "id": "87c1cfeb",
   "metadata": {},
   "outputs": [
    {
     "data": {
      "text/plain": [
       "262    0\n",
       "313    1\n",
       "89     3\n",
       "250    0\n",
       "27     0\n",
       "Name: SEM2 CGPA, dtype: int64"
      ]
     },
     "execution_count": 15,
     "metadata": {},
     "output_type": "execute_result"
    }
   ],
   "source": [
    "y_train.head()"
   ]
  },
  {
   "cell_type": "code",
   "execution_count": 16,
   "id": "e124570e",
   "metadata": {},
   "outputs": [
    {
     "data": {
      "text/plain": [
       "181    0\n",
       "258    0\n",
       "15     2\n",
       "65     0\n",
       "216    0\n",
       "Name: SEM2 CGPA, dtype: int64"
      ]
     },
     "execution_count": 16,
     "metadata": {},
     "output_type": "execute_result"
    }
   ],
   "source": [
    "y_test.head()"
   ]
  },
  {
   "cell_type": "markdown",
   "id": "70e830f1",
   "metadata": {},
   "source": [
    "# MODELLING : INSTANTIATE & FIT"
   ]
  },
  {
   "cell_type": "code",
   "execution_count": 17,
   "id": "cf4a5496",
   "metadata": {},
   "outputs": [
    {
     "data": {
      "text/plain": [
       "KNeighborsClassifier(n_neighbors=1)"
      ]
     },
     "execution_count": 17,
     "metadata": {},
     "output_type": "execute_result"
    }
   ],
   "source": [
    "from sklearn.neighbors import KNeighborsClassifier\n",
    "\n",
    "# Instantiate KNN Classifier \n",
    "knn = KNeighborsClassifier(n_neighbors=1)\n",
    "\n",
    "# Fit KNN Classifier to training data\n",
    "knn.fit(X_train,y_train)"
   ]
  },
  {
   "cell_type": "code",
   "execution_count": 18,
   "id": "fdfe1b20",
   "metadata": {},
   "outputs": [
    {
     "data": {
      "text/plain": [
       "array([0, 0, 1, 0, 0, 0, 0, 1, 0, 0, 2, 0, 0, 0, 0, 0, 0, 1, 0, 0, 0, 0,\n",
       "       0, 0, 0, 0, 0, 0, 0, 0, 0, 0, 0, 0, 0, 0, 0, 0, 0, 0, 0, 0, 0, 0,\n",
       "       0, 0, 0, 0, 0, 1, 0, 0, 0, 0, 0, 0, 0, 1, 0, 0, 0, 1, 0, 0, 0, 0,\n",
       "       0, 0, 0, 0, 0, 0, 1, 1, 0, 0, 0, 0, 0, 1, 0, 0, 0, 0, 0, 0, 0, 0,\n",
       "       0, 0, 1, 0, 0, 0, 0, 0, 0], dtype=int64)"
      ]
     },
     "execution_count": 18,
     "metadata": {},
     "output_type": "execute_result"
    }
   ],
   "source": [
    "# predict the label of the test data \n",
    "y_pred = knn.predict(X_test)\n",
    "y_pred"
   ]
  },
  {
   "cell_type": "markdown",
   "id": "577e09d9",
   "metadata": {},
   "source": [
    "# EVALUATION"
   ]
  },
  {
   "cell_type": "code",
   "execution_count": 19,
   "id": "f796ea75",
   "metadata": {},
   "outputs": [],
   "source": [
    "from sklearn import metrics\n",
    "from sklearn.metrics import confusion_matrix\n",
    "from sklearn.metrics import classification_report"
   ]
  },
  {
   "cell_type": "code",
   "execution_count": 20,
   "id": "ed6a7833",
   "metadata": {},
   "outputs": [
    {
     "data": {
      "text/plain": [
       "0.8247422680412371"
      ]
     },
     "execution_count": 20,
     "metadata": {},
     "output_type": "execute_result"
    }
   ],
   "source": [
    "score = metrics.accuracy_score(y_test,y_pred)\n",
    "score"
   ]
  },
  {
   "cell_type": "code",
   "execution_count": 21,
   "id": "aa1fc6b4",
   "metadata": {},
   "outputs": [
    {
     "name": "stdout",
     "output_type": "stream",
     "text": [
      "[[76  4  0]\n",
      " [10  4  1]\n",
      " [ 0  2  0]]\n"
     ]
    }
   ],
   "source": [
    "print(confusion_matrix(y_test,y_pred))"
   ]
  },
  {
   "cell_type": "code",
   "execution_count": 22,
   "id": "dc6110e7",
   "metadata": {},
   "outputs": [
    {
     "name": "stdout",
     "output_type": "stream",
     "text": [
      "              precision    recall  f1-score   support\n",
      "\n",
      "           0       0.88      0.95      0.92        80\n",
      "           1       0.40      0.27      0.32        15\n",
      "           2       0.00      0.00      0.00         2\n",
      "\n",
      "    accuracy                           0.82        97\n",
      "   macro avg       0.43      0.41      0.41        97\n",
      "weighted avg       0.79      0.82      0.80        97\n",
      "\n"
     ]
    }
   ],
   "source": [
    "print(classification_report(y_test,y_pred))"
   ]
  },
  {
   "cell_type": "markdown",
   "id": "1a9575d5",
   "metadata": {},
   "source": [
    "# TUNING : OPTIMAL K (1)"
   ]
  },
  {
   "cell_type": "code",
   "execution_count": 23,
   "id": "8ee0054e",
   "metadata": {},
   "outputs": [],
   "source": [
    "import matplotlib.pyplot as plt\n",
    "\n",
    "# to hide unnecessary warning\n",
    "import warnings\n",
    "warnings.filterwarnings('ignore')\n",
    "\n",
    "# line required for inline charts/plots\n",
    "%matplotlib inline\n",
    "\n",
    "# empty variable for storing the KNN metrics\n",
    "scores = []"
   ]
  },
  {
   "cell_type": "code",
   "execution_count": 24,
   "id": "d00b3d1c",
   "metadata": {},
   "outputs": [],
   "source": [
    "# we try diff values of k (from k=1 up to k=20)\n",
    "lrange = np.arange(1,20)\n",
    "\n",
    "# loop the KNN process\n",
    "for k in lrange:\n",
    "    # input the k-value and 'distance' measure\n",
    "    knn = KNeighborsClassifier(n_neighbors=k, weights='distance',algorithm='auto')\n",
    "    # input the train data to train KNN\n",
    "    knn.fit(X_train,y_train)\n",
    "    # see KNN prediction by inputting the test data\n",
    "    y_pred = knn.predict(X_test)\n",
    "    # append the performance metric (accuracy)\n",
    "    scores.append(metrics.accuracy_score(y_test,y_pred))\n",
    "    optimal_k = lrange[scores.index(max(scores))]"
   ]
  },
  {
   "cell_type": "code",
   "execution_count": 25,
   "id": "a7dd7955",
   "metadata": {},
   "outputs": [
    {
     "name": "stdout",
     "output_type": "stream",
     "text": [
      "Optimal k is 5\n",
      "Optimal score is 0.897\n"
     ]
    }
   ],
   "source": [
    "print(\"Optimal k is %d\" % optimal_k)\n",
    "print(\"Optimal score is %.3f\" % max(scores))"
   ]
  },
  {
   "cell_type": "code",
   "execution_count": 26,
   "id": "b6b20f9d",
   "metadata": {},
   "outputs": [
    {
     "data": {
      "image/png": "[encoded data removed]",
      "text/plain": [
       "<Figure size 1080x360 with 1 Axes>"
      ]
     },
     "metadata": {
      "needs_background": "light"
     },
     "output_type": "display_data"
    }
   ],
   "source": [
    "# plot accuracy scores vs k values\n",
    "plt.figure(2,figsize=(15,5))\n",
    "plt.plot(lrange,scores,ls='dashed')\n",
    "plt.xlabel('Value of k for KNN')\n",
    "plt.ylabel('Accuracy Score')\n",
    "plt.title('Accuracy Scores for Values of k for KNN')\n",
    "plt.show()"
   ]
  },
  {
   "cell_type": "code",
   "execution_count": 27,
   "id": "2e04e6d0",
   "metadata": {},
   "outputs": [
    {
     "data": {
      "text/plain": [
       "0.8556701030927835"
      ]
     },
     "execution_count": 27,
     "metadata": {},
     "output_type": "execute_result"
    }
   ],
   "source": [
    "knn = KNeighborsClassifier(n_neighbors=5)\n",
    "knn.fit(X_train,y_train)\n",
    "metrics.accuracy_score(y_test,y_pred)"
   ]
  },
  {
   "cell_type": "code",
   "execution_count": 28,
   "id": "3cdd3e4d",
   "metadata": {},
   "outputs": [
    {
     "name": "stdout",
     "output_type": "stream",
     "text": [
      "[[79  1  0]\n",
      " [11  4  0]\n",
      " [ 1  1  0]]\n"
     ]
    }
   ],
   "source": [
    "print(confusion_matrix(y_test,y_pred))"
   ]
  },
  {
   "cell_type": "code",
   "execution_count": 29,
   "id": "0f06e29a",
   "metadata": {},
   "outputs": [
    {
     "name": "stdout",
     "output_type": "stream",
     "text": [
      "              precision    recall  f1-score   support\n",
      "\n",
      "           0       0.87      0.99      0.92        80\n",
      "           1       0.67      0.27      0.38        15\n",
      "           2       0.00      0.00      0.00         2\n",
      "\n",
      "    accuracy                           0.86        97\n",
      "   macro avg       0.51      0.42      0.43        97\n",
      "weighted avg       0.82      0.86      0.82        97\n",
      "\n"
     ]
    }
   ],
   "source": [
    "print(classification_report(y_test,y_pred))"
   ]
  },
  {
   "cell_type": "markdown",
   "id": "8cc54873",
   "metadata": {},
   "source": [
    "# TUNING : CV + OPTIMAL K (1)"
   ]
  },
  {
   "cell_type": "code",
   "execution_count": 30,
   "id": "1044fd70",
   "metadata": {},
   "outputs": [],
   "source": [
    "from sklearn.model_selection import cross_val_score"
   ]
  },
  {
   "cell_type": "code",
   "execution_count": 31,
   "id": "fbcb4fca",
   "metadata": {},
   "outputs": [],
   "source": [
    "# empty variable foor storing the KNN metrics\n",
    "scores = []"
   ]
  },
  {
   "cell_type": "code",
   "execution_count": 32,
   "id": "5e2b00a7",
   "metadata": {
    "scrolled": true
   },
   "outputs": [
    {
     "name": "stdout",
     "output_type": "stream",
     "text": [
      "The optimal number of neighbors is 12\n",
      "The optimal score is 0.889\n",
      "[0.86956522 0.91304348 0.86956522 0.82608696 0.86363636 0.95454545\n",
      " 0.90909091 0.86363636 0.86363636 0.86363636]\n"
     ]
    },
    {
     "data": {
      "image/png": "[encoded data removed]",
      "text/plain": [
       "<Figure size 1080x360 with 1 Axes>"
      ]
     },
     "metadata": {
      "needs_background": "light"
     },
     "output_type": "display_data"
    }
   ],
   "source": [
    "# We try different values of k for the KNN (from k=1 up to k=26)\n",
    "lrange=np.arange(1,20)\n",
    "\n",
    "# loop the KNN process\n",
    "for k in lrange:\n",
    "    # input the k value and 'distance' measure\n",
    "    knn=KNeighborsClassifier(n_neighbors=k, weights='distance', algorithm='auto')\n",
    "    # get score for the 10 fold cross validation\n",
    "    score = cross_val_score(knn, X_train, y_train, cv=10, scoring='accuracy')\n",
    "    scores.append(score.mean())\n",
    "\n",
    "optimal_k = lrange[scores.index(max(scores))]\n",
    "          \n",
    "print(\"The optimal number of neighbors is %d\" % optimal_k)\n",
    "print(\"The optimal score is %.3f\" % max(scores))\n",
    "\n",
    "plt.figure(2,figsize=(15,5))\n",
    "print(score)    \n",
    "# plot the results\n",
    "plt.plot(lrange, scores,ls='dashed')\n",
    "plt.xlabel('Value of k for KNN')\n",
    "plt.ylabel('Accuracy Score')\n",
    "plt.title('Accuracy Scores for Values of k of k-Nearest-Neighbors')\n",
    "plt.show()"
   ]
  },
  {
   "cell_type": "code",
   "execution_count": 33,
   "id": "9e3f629d",
   "metadata": {},
   "outputs": [
    {
     "name": "stdout",
     "output_type": "stream",
     "text": [
      "[0.86956522 0.91304348 0.86956522 0.82608696 0.86363636 0.95454545\n",
      " 0.90909091 0.86363636 0.86363636 0.86363636]\n"
     ]
    },
    {
     "data": {
      "image/png": "[encoded data removed]",
      "text/plain": [
       "<Figure size 1080x360 with 1 Axes>"
      ]
     },
     "metadata": {
      "needs_background": "light"
     },
     "output_type": "display_data"
    }
   ],
   "source": [
    "plt.figure(2,figsize=(15,5))\n",
    "print(score)    \n",
    "# plot the results\n",
    "plt.plot(lrange, scores,ls='dashed')\n",
    "plt.xlabel('Value of k for KNN')\n",
    "plt.ylabel('Accuracy Score')\n",
    "plt.title('Accuracy Scores for Values of k of k-Nearest-Neighbors')\n",
    "plt.show()"
   ]
  },
  {
   "cell_type": "code",
   "execution_count": 34,
   "id": "d32bfd54",
   "metadata": {},
   "outputs": [
    {
     "data": {
      "text/plain": [
       "0.8556701030927835"
      ]
     },
     "execution_count": 34,
     "metadata": {},
     "output_type": "execute_result"
    }
   ],
   "source": [
    "knn = KNeighborsClassifier(n_neighbors=12)\n",
    "knn.fit(X_train,y_train)\n",
    "metrics.accuracy_score(y_test,y_pred)"
   ]
  },
  {
   "cell_type": "code",
   "execution_count": 35,
   "id": "4f6b742e",
   "metadata": {},
   "outputs": [
    {
     "name": "stdout",
     "output_type": "stream",
     "text": [
      "[[79  1  0]\n",
      " [11  4  0]\n",
      " [ 1  1  0]]\n"
     ]
    }
   ],
   "source": [
    "print(confusion_matrix(y_test,y_pred))"
   ]
  },
  {
   "cell_type": "code",
   "execution_count": 36,
   "id": "fd444384",
   "metadata": {
    "scrolled": true
   },
   "outputs": [
    {
     "name": "stdout",
     "output_type": "stream",
     "text": [
      "              precision    recall  f1-score   support\n",
      "\n",
      "           0       0.87      0.99      0.92        80\n",
      "           1       0.67      0.27      0.38        15\n",
      "           2       0.00      0.00      0.00         2\n",
      "\n",
      "    accuracy                           0.86        97\n",
      "   macro avg       0.51      0.42      0.43        97\n",
      "weighted avg       0.82      0.86      0.82        97\n",
      "\n"
     ]
    }
   ],
   "source": [
    "print(classification_report(y_test,y_pred))"
   ]
  },
  {
   "cell_type": "markdown",
   "id": "d2ad7e4c",
   "metadata": {},
   "source": [
    "# TUNING : OPTIMAL K (2)"
   ]
  },
  {
   "cell_type": "code",
   "execution_count": 37,
   "id": "7fd7f6ac",
   "metadata": {},
   "outputs": [],
   "source": [
    "neighbors = np.arange(1,20)\n",
    "train_accuracy = np.empty(len(neighbors))\n",
    "test_accuracy = np.empty(len(neighbors))"
   ]
  },
  {
   "cell_type": "code",
   "execution_count": 38,
   "id": "87aa2222",
   "metadata": {},
   "outputs": [
    {
     "data": {
      "image/png": "[encoded data removed]",
      "text/plain": [
       "<Figure size 432x288 with 1 Axes>"
      ]
     },
     "metadata": {
      "needs_background": "light"
     },
     "output_type": "display_data"
    }
   ],
   "source": [
    "for i, k in enumerate(neighbors):\n",
    "    knn = KNeighborsClassifier(n_neighbors=k)\n",
    "    knn.fit(X_train,y_train)\n",
    "    train_accuracy[i] = knn.score(X_train,y_train)\n",
    "    test_accuracy[i] = knn.score(X_test,y_test)\n",
    "    \n",
    "plt.title('k-NN: Varying Number of Neighbors')\n",
    "plt.plot(neighbors, test_accuracy, label = 'Testing Accuracy')\n",
    "plt.plot(neighbors, train_accuracy, label = 'Training Accuracy')\n",
    "plt.legend()\n",
    "plt.xlabel('Number of Neighbors')\n",
    "plt.ylabel('Accuracy')\n",
    "plt.show()"
   ]
  },
  {
   "cell_type": "markdown",
   "id": "1eac9f8a",
   "metadata": {},
   "source": [
    "# TUNING : CV + OPTIMAL K (2)"
   ]
  },
  {
   "cell_type": "code",
   "execution_count": 39,
   "id": "e32fd8c5",
   "metadata": {},
   "outputs": [
    {
     "data": {
      "text/plain": [
       "{'n_neighbors': 10}"
      ]
     },
     "execution_count": 39,
     "metadata": {},
     "output_type": "execute_result"
    }
   ],
   "source": [
    "from sklearn.model_selection import GridSearchCV\n",
    "param_grid = {'n_neighbors':np.arange(1,20)}\n",
    "knn = KNeighborsClassifier()\n",
    "knn_cv = GridSearchCV(knn,param_grid,cv=10)\n",
    "knn_cv.fit(X_train,y_train)\n",
    "knn_cv.best_params_"
   ]
  },
  {
   "cell_type": "code",
   "execution_count": 40,
   "id": "1b3cbfcf",
   "metadata": {},
   "outputs": [
    {
     "data": {
      "text/plain": [
       "0.8556701030927835"
      ]
     },
     "execution_count": 40,
     "metadata": {},
     "output_type": "execute_result"
    }
   ],
   "source": [
    "knn = KNeighborsClassifier(n_neighbors=10)\n",
    "knn_cv = GridSearchCV(knn,param_grid,cv=10)\n",
    "knn_cv.fit(X_train,y_train)\n",
    "\n",
    "metrics.accuracy_score(y_test,y_pred)"
   ]
  },
  {
   "cell_type": "code",
   "execution_count": 41,
   "id": "aae21f62",
   "metadata": {},
   "outputs": [
    {
     "name": "stdout",
     "output_type": "stream",
     "text": [
      "[[79  1  0]\n",
      " [11  4  0]\n",
      " [ 1  1  0]]\n"
     ]
    }
   ],
   "source": [
    "print(confusion_matrix(y_test,y_pred))"
   ]
  },
  {
   "cell_type": "code",
   "execution_count": 42,
   "id": "997da13c",
   "metadata": {},
   "outputs": [
    {
     "name": "stdout",
     "output_type": "stream",
     "text": [
      "              precision    recall  f1-score   support\n",
      "\n",
      "           0       0.87      0.99      0.92        80\n",
      "           1       0.67      0.27      0.38        15\n",
      "           2       0.00      0.00      0.00         2\n",
      "\n",
      "    accuracy                           0.86        97\n",
      "   macro avg       0.51      0.42      0.43        97\n",
      "weighted avg       0.82      0.86      0.82        97\n",
      "\n"
     ]
    }
   ],
   "source": [
    "print(classification_report(y_test,y_pred))"
   ]
  }
 ],
 "metadata": {
  "kernelspec": {
   "display_name": "Python 3",
   "language": "python",
   "name": "python3"
  },
  "language_info": {
   "codemirror_mode": {
    "name": "ipython",
    "version": 3
   },
   "file_extension": ".py",
   "mimetype": "text/x-python",
   "name": "python",
   "nbconvert_exporter": "python",
   "pygments_lexer": "ipython3",
   "version": "3.8.8"
  }
 },
 "nbformat": 4,
 "nbformat_minor": 5
}
